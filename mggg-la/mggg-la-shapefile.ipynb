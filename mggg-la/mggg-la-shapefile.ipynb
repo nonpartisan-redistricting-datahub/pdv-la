{
 "cells": [
  {
   "cell_type": "code",
   "execution_count": 1,
   "metadata": {},
   "outputs": [],
   "source": [
    "import matplotlib.pyplot as plt # for plotting maps\n",
    "import maup # mggg's library for proration, see documentation here: https://github.com/mggg/maup\n",
    "import pandas as pd # standard python data library\n",
    "import geopandas as gp # the geo-version of pandas\n",
    "import numpy as np \n",
    "from statistics import mean, median\n",
    "import timeit \n",
    "import requests\n",
    "import rtree\n",
    "###MGGG's processing:\n",
    "#X Precinct shapefile: Louisiana House of Representative, 2018\n",
    "#**** Election data: Louisiana Secretary of State\n",
    "#X Demographic data: 2010 Decennial Census (via API)\n",
    "#X Demographic data geography: 2010 Census blocks (via TIGER/Line Shapefiles)\n",
    "\n",
    "#\"Some merging of precincts in the tabular election data and precinct \n",
    "# shapefile were necessary to join election results for multiple years \n",
    "# onto 2018 precinct boundaries. Data from early and absentee votes \n",
    "# reported at the parish level were disaggregated by voting age \n",
    "# population. Demographic data were aggregated from the block level \n",
    "# using MGGG’s proration software. Congressional and state legislative \n",
    "#district IDs were also assigned to precincts using this package."
   ]
  },
  {
   "cell_type": "code",
   "execution_count": 2,
   "metadata": {},
   "outputs": [],
   "source": [
    "#Start a timer\n",
    "start = timeit.default_timer()"
   ]
  },
  {
   "cell_type": "code",
   "execution_count": 3,
   "metadata": {},
   "outputs": [
    {
     "name": "stdout",
     "output_type": "stream",
     "text": [
      "https://raw.githubusercontent.com/mggg-states/LA-shapefiles/main/LA-1519-cvap.csv\n"
     ]
    }
   ],
   "source": [
    "#Download MGGG's CVAP data as a csv\n",
    "print('https://raw.githubusercontent.com/mggg-states/LA-shapefiles/main/LA-1519-cvap.csv')\n",
    "req=requests.get('https://raw.githubusercontent.com/mggg-states/LA-shapefiles/main/LA-1519-cvap.csv')\n",
    "url_content = req.content\n",
    "csv_file= open('./mggg-la-final/LA-1519-cvap.csv','wb')\n",
    "csv_file.write(url_content)\n",
    "csv_file.close()"
   ]
  },
  {
   "cell_type": "code",
   "execution_count": 4,
   "metadata": {},
   "outputs": [
    {
     "data": {
      "text/html": [
       "<div>\n",
       "<style scoped>\n",
       "    .dataframe tbody tr th:only-of-type {\n",
       "        vertical-align: middle;\n",
       "    }\n",
       "\n",
       "    .dataframe tbody tr th {\n",
       "        vertical-align: top;\n",
       "    }\n",
       "\n",
       "    .dataframe thead th {\n",
       "        text-align: right;\n",
       "    }\n",
       "</style>\n",
       "<table border=\"1\" class=\"dataframe\">\n",
       "  <thead>\n",
       "    <tr style=\"text-align: right;\">\n",
       "      <th></th>\n",
       "      <th>GEOID10</th>\n",
       "      <th>State</th>\n",
       "      <th>STATEFP</th>\n",
       "      <th>COUNTYFP</th>\n",
       "      <th>County</th>\n",
       "      <th>Precinct</th>\n",
       "      <th>Code</th>\n",
       "      <th>TOTPOP</th>\n",
       "      <th>NH_WHITE</th>\n",
       "      <th>NH_BLACK</th>\n",
       "      <th>...</th>\n",
       "      <th>NHPICVAP16</th>\n",
       "      <th>NHPICVAP17</th>\n",
       "      <th>NHPICVAP18</th>\n",
       "      <th>WCVAP12</th>\n",
       "      <th>WCVAP13</th>\n",
       "      <th>WCVAP14</th>\n",
       "      <th>WCVAP15</th>\n",
       "      <th>WCVAP16</th>\n",
       "      <th>WCVAP17</th>\n",
       "      <th>WCVAP18</th>\n",
       "    </tr>\n",
       "  </thead>\n",
       "  <tbody>\n",
       "    <tr>\n",
       "      <th>0</th>\n",
       "      <td>220051</td>\n",
       "      <td>Louisiana</td>\n",
       "      <td>22</td>\n",
       "      <td>5</td>\n",
       "      <td>Ascension</td>\n",
       "      <td>00 01 A</td>\n",
       "      <td>Ascension, 00 01 A</td>\n",
       "      <td>2887</td>\n",
       "      <td>2321</td>\n",
       "      <td>325</td>\n",
       "      <td>...</td>\n",
       "      <td>0.0</td>\n",
       "      <td>0.0</td>\n",
       "      <td>0.0</td>\n",
       "      <td>1460.366175</td>\n",
       "      <td>1618.447050</td>\n",
       "      <td>1668.631454</td>\n",
       "      <td>1688.705216</td>\n",
       "      <td>1741.398841</td>\n",
       "      <td>1663.613014</td>\n",
       "      <td>1947.154900</td>\n",
       "    </tr>\n",
       "    <tr>\n",
       "      <th>1</th>\n",
       "      <td>220052</td>\n",
       "      <td>Louisiana</td>\n",
       "      <td>22</td>\n",
       "      <td>5</td>\n",
       "      <td>Ascension</td>\n",
       "      <td>00 02 A</td>\n",
       "      <td>Ascension, 00 02 A</td>\n",
       "      <td>2617</td>\n",
       "      <td>2374</td>\n",
       "      <td>109</td>\n",
       "      <td>...</td>\n",
       "      <td>0.0</td>\n",
       "      <td>0.0</td>\n",
       "      <td>0.0</td>\n",
       "      <td>1830.000000</td>\n",
       "      <td>1750.000000</td>\n",
       "      <td>1870.000000</td>\n",
       "      <td>2000.000000</td>\n",
       "      <td>1780.000000</td>\n",
       "      <td>1875.000000</td>\n",
       "      <td>1675.000000</td>\n",
       "    </tr>\n",
       "    <tr>\n",
       "      <th>2</th>\n",
       "      <td>220053</td>\n",
       "      <td>Louisiana</td>\n",
       "      <td>22</td>\n",
       "      <td>5</td>\n",
       "      <td>Ascension</td>\n",
       "      <td>00 03</td>\n",
       "      <td>Ascension, 00 03</td>\n",
       "      <td>2238</td>\n",
       "      <td>1966</td>\n",
       "      <td>139</td>\n",
       "      <td>...</td>\n",
       "      <td>0.0</td>\n",
       "      <td>0.0</td>\n",
       "      <td>0.0</td>\n",
       "      <td>1375.000000</td>\n",
       "      <td>1365.000000</td>\n",
       "      <td>1320.000000</td>\n",
       "      <td>1770.000000</td>\n",
       "      <td>1790.000000</td>\n",
       "      <td>1890.000000</td>\n",
       "      <td>1770.000000</td>\n",
       "    </tr>\n",
       "    <tr>\n",
       "      <th>3</th>\n",
       "      <td>220054</td>\n",
       "      <td>Louisiana</td>\n",
       "      <td>22</td>\n",
       "      <td>5</td>\n",
       "      <td>Ascension</td>\n",
       "      <td>00 04</td>\n",
       "      <td>Ascension, 00 04</td>\n",
       "      <td>1695</td>\n",
       "      <td>1346</td>\n",
       "      <td>216</td>\n",
       "      <td>...</td>\n",
       "      <td>0.0</td>\n",
       "      <td>0.0</td>\n",
       "      <td>0.0</td>\n",
       "      <td>1191.244703</td>\n",
       "      <td>1256.340042</td>\n",
       "      <td>1210.773305</td>\n",
       "      <td>1119.639831</td>\n",
       "      <td>1106.620763</td>\n",
       "      <td>1204.263771</td>\n",
       "      <td>1230.301907</td>\n",
       "    </tr>\n",
       "    <tr>\n",
       "      <th>4</th>\n",
       "      <td>220055</td>\n",
       "      <td>Louisiana</td>\n",
       "      <td>22</td>\n",
       "      <td>5</td>\n",
       "      <td>Ascension</td>\n",
       "      <td>00 05</td>\n",
       "      <td>Ascension, 00 05</td>\n",
       "      <td>2119</td>\n",
       "      <td>1605</td>\n",
       "      <td>300</td>\n",
       "      <td>...</td>\n",
       "      <td>0.0</td>\n",
       "      <td>0.0</td>\n",
       "      <td>0.0</td>\n",
       "      <td>1367.576346</td>\n",
       "      <td>1270.851634</td>\n",
       "      <td>1405.983245</td>\n",
       "      <td>1197.052243</td>\n",
       "      <td>1230.845252</td>\n",
       "      <td>1230.238856</td>\n",
       "      <td>1497.366391</td>\n",
       "    </tr>\n",
       "    <tr>\n",
       "      <th>...</th>\n",
       "      <td>...</td>\n",
       "      <td>...</td>\n",
       "      <td>...</td>\n",
       "      <td>...</td>\n",
       "      <td>...</td>\n",
       "      <td>...</td>\n",
       "      <td>...</td>\n",
       "      <td>...</td>\n",
       "      <td>...</td>\n",
       "      <td>...</td>\n",
       "      <td>...</td>\n",
       "      <td>...</td>\n",
       "      <td>...</td>\n",
       "      <td>...</td>\n",
       "      <td>...</td>\n",
       "      <td>...</td>\n",
       "      <td>...</td>\n",
       "      <td>...</td>\n",
       "      <td>...</td>\n",
       "      <td>...</td>\n",
       "      <td>...</td>\n",
       "    </tr>\n",
       "    <tr>\n",
       "      <th>3689</th>\n",
       "      <td>221277-1</td>\n",
       "      <td>Louisiana</td>\n",
       "      <td>22</td>\n",
       "      <td>127</td>\n",
       "      <td>Winn</td>\n",
       "      <td>07 1</td>\n",
       "      <td>Winn, 07 1</td>\n",
       "      <td>329</td>\n",
       "      <td>187</td>\n",
       "      <td>118</td>\n",
       "      <td>...</td>\n",
       "      <td>0.0</td>\n",
       "      <td>0.0</td>\n",
       "      <td>0.0</td>\n",
       "      <td>117.509931</td>\n",
       "      <td>134.317618</td>\n",
       "      <td>131.443933</td>\n",
       "      <td>119.437245</td>\n",
       "      <td>112.015742</td>\n",
       "      <td>115.507885</td>\n",
       "      <td>118.128390</td>\n",
       "    </tr>\n",
       "    <tr>\n",
       "      <th>3690</th>\n",
       "      <td>221277-1A</td>\n",
       "      <td>Louisiana</td>\n",
       "      <td>22</td>\n",
       "      <td>127</td>\n",
       "      <td>Winn</td>\n",
       "      <td>07 1A</td>\n",
       "      <td>Winn, 07 1A</td>\n",
       "      <td>280</td>\n",
       "      <td>266</td>\n",
       "      <td>14</td>\n",
       "      <td>...</td>\n",
       "      <td>0.0</td>\n",
       "      <td>0.0</td>\n",
       "      <td>0.0</td>\n",
       "      <td>148.964374</td>\n",
       "      <td>149.915991</td>\n",
       "      <td>142.257046</td>\n",
       "      <td>142.152312</td>\n",
       "      <td>167.840426</td>\n",
       "      <td>157.508120</td>\n",
       "      <td>144.559330</td>\n",
       "    </tr>\n",
       "    <tr>\n",
       "      <th>3691</th>\n",
       "      <td>221277-2</td>\n",
       "      <td>Louisiana</td>\n",
       "      <td>22</td>\n",
       "      <td>127</td>\n",
       "      <td>Winn</td>\n",
       "      <td>07 2</td>\n",
       "      <td>Winn, 07 2</td>\n",
       "      <td>415</td>\n",
       "      <td>412</td>\n",
       "      <td>2</td>\n",
       "      <td>...</td>\n",
       "      <td>0.0</td>\n",
       "      <td>0.0</td>\n",
       "      <td>0.0</td>\n",
       "      <td>361.713031</td>\n",
       "      <td>259.004392</td>\n",
       "      <td>247.840410</td>\n",
       "      <td>265.702782</td>\n",
       "      <td>234.443631</td>\n",
       "      <td>187.554905</td>\n",
       "      <td>183.089312</td>\n",
       "    </tr>\n",
       "    <tr>\n",
       "      <th>3692</th>\n",
       "      <td>221277-2A</td>\n",
       "      <td>Louisiana</td>\n",
       "      <td>22</td>\n",
       "      <td>127</td>\n",
       "      <td>Winn</td>\n",
       "      <td>07 2A</td>\n",
       "      <td>Winn, 07 2A</td>\n",
       "      <td>716</td>\n",
       "      <td>604</td>\n",
       "      <td>94</td>\n",
       "      <td>...</td>\n",
       "      <td>0.0</td>\n",
       "      <td>0.0</td>\n",
       "      <td>0.0</td>\n",
       "      <td>390.779201</td>\n",
       "      <td>351.601931</td>\n",
       "      <td>421.672983</td>\n",
       "      <td>415.507864</td>\n",
       "      <td>437.972041</td>\n",
       "      <td>456.599446</td>\n",
       "      <td>469.860743</td>\n",
       "    </tr>\n",
       "    <tr>\n",
       "      <th>3693</th>\n",
       "      <td>221277-7</td>\n",
       "      <td>Louisiana</td>\n",
       "      <td>22</td>\n",
       "      <td>127</td>\n",
       "      <td>Winn</td>\n",
       "      <td>07 7</td>\n",
       "      <td>Winn, 07 7</td>\n",
       "      <td>363</td>\n",
       "      <td>344</td>\n",
       "      <td>5</td>\n",
       "      <td>...</td>\n",
       "      <td>0.0</td>\n",
       "      <td>0.0</td>\n",
       "      <td>0.0</td>\n",
       "      <td>158.195876</td>\n",
       "      <td>195.587629</td>\n",
       "      <td>158.195876</td>\n",
       "      <td>195.587629</td>\n",
       "      <td>178.329897</td>\n",
       "      <td>244.484536</td>\n",
       "      <td>215.721650</td>\n",
       "    </tr>\n",
       "  </tbody>\n",
       "</table>\n",
       "<p>3694 rows × 269 columns</p>\n",
       "</div>"
      ],
      "text/plain": [
       "        GEOID10      State  STATEFP  COUNTYFP     County Precinct  \\\n",
       "0        220051  Louisiana       22         5  Ascension  00 01 A   \n",
       "1        220052  Louisiana       22         5  Ascension  00 02 A   \n",
       "2        220053  Louisiana       22         5  Ascension    00 03   \n",
       "3        220054  Louisiana       22         5  Ascension    00 04   \n",
       "4        220055  Louisiana       22         5  Ascension    00 05   \n",
       "...         ...        ...      ...       ...        ...      ...   \n",
       "3689   221277-1  Louisiana       22       127       Winn     07 1   \n",
       "3690  221277-1A  Louisiana       22       127       Winn    07 1A   \n",
       "3691   221277-2  Louisiana       22       127       Winn     07 2   \n",
       "3692  221277-2A  Louisiana       22       127       Winn    07 2A   \n",
       "3693   221277-7  Louisiana       22       127       Winn     07 7   \n",
       "\n",
       "                    Code  TOTPOP  NH_WHITE  NH_BLACK  ...  NHPICVAP16  \\\n",
       "0     Ascension, 00 01 A    2887      2321       325  ...         0.0   \n",
       "1     Ascension, 00 02 A    2617      2374       109  ...         0.0   \n",
       "2       Ascension, 00 03    2238      1966       139  ...         0.0   \n",
       "3       Ascension, 00 04    1695      1346       216  ...         0.0   \n",
       "4       Ascension, 00 05    2119      1605       300  ...         0.0   \n",
       "...                  ...     ...       ...       ...  ...         ...   \n",
       "3689          Winn, 07 1     329       187       118  ...         0.0   \n",
       "3690         Winn, 07 1A     280       266        14  ...         0.0   \n",
       "3691          Winn, 07 2     415       412         2  ...         0.0   \n",
       "3692         Winn, 07 2A     716       604        94  ...         0.0   \n",
       "3693          Winn, 07 7     363       344         5  ...         0.0   \n",
       "\n",
       "      NHPICVAP17  NHPICVAP18      WCVAP12      WCVAP13      WCVAP14  \\\n",
       "0            0.0         0.0  1460.366175  1618.447050  1668.631454   \n",
       "1            0.0         0.0  1830.000000  1750.000000  1870.000000   \n",
       "2            0.0         0.0  1375.000000  1365.000000  1320.000000   \n",
       "3            0.0         0.0  1191.244703  1256.340042  1210.773305   \n",
       "4            0.0         0.0  1367.576346  1270.851634  1405.983245   \n",
       "...          ...         ...          ...          ...          ...   \n",
       "3689         0.0         0.0   117.509931   134.317618   131.443933   \n",
       "3690         0.0         0.0   148.964374   149.915991   142.257046   \n",
       "3691         0.0         0.0   361.713031   259.004392   247.840410   \n",
       "3692         0.0         0.0   390.779201   351.601931   421.672983   \n",
       "3693         0.0         0.0   158.195876   195.587629   158.195876   \n",
       "\n",
       "          WCVAP15      WCVAP16      WCVAP17      WCVAP18  \n",
       "0     1688.705216  1741.398841  1663.613014  1947.154900  \n",
       "1     2000.000000  1780.000000  1875.000000  1675.000000  \n",
       "2     1770.000000  1790.000000  1890.000000  1770.000000  \n",
       "3     1119.639831  1106.620763  1204.263771  1230.301907  \n",
       "4     1197.052243  1230.845252  1230.238856  1497.366391  \n",
       "...           ...          ...          ...          ...  \n",
       "3689   119.437245   112.015742   115.507885   118.128390  \n",
       "3690   142.152312   167.840426   157.508120   144.559330  \n",
       "3691   265.702782   234.443631   187.554905   183.089312  \n",
       "3692   415.507864   437.972041   456.599446   469.860743  \n",
       "3693   195.587629   178.329897   244.484536   215.721650  \n",
       "\n",
       "[3694 rows x 269 columns]"
      ]
     },
     "execution_count": 4,
     "metadata": {},
     "output_type": "execute_result"
    }
   ],
   "source": [
    "pd.read_csv('./mggg-la-final/LA-1519-cvap.csv')"
   ]
  },
  {
   "cell_type": "markdown",
   "metadata": {},
   "source": [
    "**Load data**"
   ]
  },
  {
   "cell_type": "markdown",
   "metadata": {},
   "source": [
    "Retrieve demographic data from Census API\n",
    "\n",
    "To see the full list of census variables, look here: https://api.census.gov/data/2010/dec/sf1/variables.html\n"
   ]
  },
  {
   "cell_type": "code",
   "execution_count": 5,
   "metadata": {},
   "outputs": [],
   "source": [
    "# Code chunk by Melisande Teng - VRDI 2019\n",
    "## SN creates an array of interested variables\n",
    "variables = [\n",
    "    # pop\n",
    "    \"P005001\",\n",
    "    \"P005003\",\n",
    "    \"P005004\",\n",
    "    \"P005005\",\n",
    "    \"P005006\",\n",
    "    \"P005007\",\n",
    "    \"P005008\",\n",
    "    \"P005009\",\n",
    "    \"P005010\",\n",
    "    \"P005011\",\n",
    "    \"P005012\",\n",
    "    \"P005013\", \n",
    "    \"P005014\",\n",
    "    \"P005015\",\n",
    "    \"P005016\",\n",
    "    \"P005017\",\n",
    "    # vap\n",
    "    \"P011001\",\n",
    "    \"P011002\",\n",
    "    \"P011005\",\n",
    "    \"P011006\",\n",
    "    \"P011007\",\n",
    "    \"P011008\",\n",
    "    \"P011009\",\n",
    "    \"P011010\",\n",
    "    \"P011011\",\n",
    "]\n",
    "## creates array of the descirptions of those variables, in order\n",
    "keys = [\n",
    "    # pop\n",
    "    \"TOTPOP\",  # these follow from above, so TOTPOP = P005001\n",
    "    \"NH_WHITE\",\n",
    "    \"NH_BLACK\",\n",
    "    \"NH_AMIN\",\n",
    "    \"NH_ASIAN\",\n",
    "    \"NH_NHPI\",\n",
    "    \"NH_OTHER\",\n",
    "    \"NH_2MORE\",\n",
    "    \"HISP\",\n",
    "    \"H_WHITE\",#add above\n",
    "    \"H_BLACK\",##\n",
    "    \"H_AMIN\", ##\n",
    "    \"H_ASIAN\",##\n",
    "    \"H_NHPI\",##\n",
    "    \"H_OTHER\",##\n",
    "    \"H_2MORE\",##add\n",
    "    # vap\n",
    "    \"VAP\",\n",
    "    \"HVAP\",\n",
    "    \"WVAP\",\n",
    "    \"BVAP\",\n",
    "    \"AMINVAP\",\n",
    "    \"ASIANVAP\",\n",
    "    \"NHPIVAP\",\n",
    "    \"OTHERVAP\",\n",
    "    \"2MOREVAP\",\n",
    "]\n",
    "\n",
    "import requests\n",
    "\n",
    "#function to retrieve these variables at the county level, from the 2010 Decennial Census\n",
    "def counties(state_fips):\n",
    "    \"\"\"Inputs: state fips code\n",
    "    Process: Retrieves a list of counties in the given state from the Census API.  \n",
    "    Outputs: A list of county fips codes in the state. \"\"\"\n",
    "    #uses the fips input into the census api\n",
    "    resp = requests.get(\n",
    "        \"https://api.census.gov/data/2010/dec/sf1\"\n",
    "        \"?get=NAME&for=county:*&in=state:{}\".format(state_fips)  #uses the fips input to locate the state\n",
    "    )\n",
    "    #retrieves the data as a json \n",
    "    header, *rows = resp.json()\n",
    "    #county column is \"county\"\n",
    "    county_column_index = header.index(\"county\")\n",
    "    county_fips_codes = set(row[county_column_index] for row in rows) #sequence of counties \n",
    "    return county_fips_codes  #returns the fips codes of all counties\n",
    "\n",
    "#function that inputs the state fips, the countyfips and default variables and keys from above\n",
    "def block_data_for_county(state_fips, county_fips, variables=variables, keys=keys):\n",
    "    \"\"\"Inputs: state fips code, county fips code, list of variables and corresponding keys. \n",
    "    Process: formats the query to call the Census API. \n",
    "    Outputs: data for the county in a pandas dataframe. \"\"\"\n",
    "    url = (\n",
    "        \"https://api.census.gov/data/2010/dec/sf1\"\n",
    "        + \"?get={},NAME&for=block:*\".format(\",\".join(variables)) #joins the variables to extract in API\n",
    "        + \"&in=state:{}&in=county:{}&in=tract:*\".format(state_fips, county_fips) #in state and county\n",
    "    )\n",
    "    resp = requests.get(url)\n",
    "    header, *rows = resp.json()\n",
    "    variable_lookup = dict(zip(variables, keys)) #creates dictionary for the variables and keys\n",
    "    columns = [variable_lookup.get(column_name, column_name) for column_name in header]  #names the headers \n",
    "    dtypes = {key: int for key in keys} #changes all data to integers\n",
    "    dtypes.update({key: str for key in [\"state\", \"county\", \"tract\", \"block\"]})  #changes these data types string\n",
    "    data = pd.DataFrame.from_records(rows, columns=columns).astype(dtypes) #makes a pandas dataframe using rows and the columns variable, set as the dtypes \n",
    "    data[\"geoid\"] = data[\"state\"] + data[\"county\"] + data[\"tract\"] + data[\"block\"] # new variable for geoid that sums all of the unique geographies to create GEOID\n",
    "    return data\n",
    "\n",
    "\n",
    "def block_data_for_state(state_fips):\n",
    "    \"\"\"Input: state_fips\n",
    "    Process: Retrieve a list of county fips codes in the state. \n",
    "        The Census API only lets you query one county at a time, so you first need the full list. \n",
    "        Then call block_data_for_county() to retrieve the data at the county level. \n",
    "    Outputs: block-level data for the state fips for the list of variables defined above. \n",
    "    \"\"\"\n",
    "    from tqdm.auto import tqdm\n",
    "    county_fips_codes = counties(state_fips)\n",
    "    return pd.concat(\n",
    "        [\n",
    "            block_data_for_county(state_fips, county_fips)\n",
    "            for county_fips in tqdm(county_fips_codes)\n",
    "        ]\n",
    "    )"
   ]
  },
  {
   "cell_type": "code",
   "execution_count": 6,
   "metadata": {},
   "outputs": [
    {
     "data": {
      "application/vnd.jupyter.widget-view+json": {
       "model_id": "b0b8a1e209e54274b9b616068cc2e933",
       "version_major": 2,
       "version_minor": 0
      },
      "text/plain": [
       "HBox(children=(HTML(value=''), FloatProgress(value=0.0, max=64.0), HTML(value='')))"
      ]
     },
     "metadata": {},
     "output_type": "display_data"
    },
    {
     "name": "stdout",
     "output_type": "stream",
     "text": [
      "\n"
     ]
    }
   ],
   "source": [
    "# Retrieve the block level data for the state\n",
    "la_demo = block_data_for_state('22')"
   ]
  },
  {
   "cell_type": "code",
   "execution_count": 7,
   "metadata": {},
   "outputs": [],
   "source": [
    "la_demo = la_demo.rename(columns={\"geoid\": \"GEOID10\"})\n",
    "la_demo.to_csv('la_demo_census_2010_blocks.csv')"
   ]
  },
  {
   "cell_type": "markdown",
   "metadata": {},
   "source": [
    "Example of how you would write the census data to a csv and then re-load it so you don't have to query it every time you re-run this script. "
   ]
  },
  {
   "cell_type": "code",
   "execution_count": 8,
   "metadata": {},
   "outputs": [
    {
     "data": {
      "text/html": [
       "<div>\n",
       "<style scoped>\n",
       "    .dataframe tbody tr th:only-of-type {\n",
       "        vertical-align: middle;\n",
       "    }\n",
       "\n",
       "    .dataframe tbody tr th {\n",
       "        vertical-align: top;\n",
       "    }\n",
       "\n",
       "    .dataframe thead th {\n",
       "        text-align: right;\n",
       "    }\n",
       "</style>\n",
       "<table border=\"1\" class=\"dataframe\">\n",
       "  <thead>\n",
       "    <tr style=\"text-align: right;\">\n",
       "      <th></th>\n",
       "      <th>Unnamed: 0</th>\n",
       "      <th>TOTPOP</th>\n",
       "      <th>NH_WHITE</th>\n",
       "      <th>NH_BLACK</th>\n",
       "      <th>NH_AMIN</th>\n",
       "      <th>NH_ASIAN</th>\n",
       "      <th>NH_NHPI</th>\n",
       "      <th>NH_OTHER</th>\n",
       "      <th>NH_2MORE</th>\n",
       "      <th>HISP</th>\n",
       "      <th>...</th>\n",
       "      <th>ASIANVAP</th>\n",
       "      <th>NHPIVAP</th>\n",
       "      <th>OTHERVAP</th>\n",
       "      <th>2MOREVAP</th>\n",
       "      <th>NAME</th>\n",
       "      <th>state</th>\n",
       "      <th>county</th>\n",
       "      <th>tract</th>\n",
       "      <th>block</th>\n",
       "      <th>GEOID10</th>\n",
       "    </tr>\n",
       "  </thead>\n",
       "  <tbody>\n",
       "    <tr>\n",
       "      <th>0</th>\n",
       "      <td>0</td>\n",
       "      <td>0</td>\n",
       "      <td>0</td>\n",
       "      <td>0</td>\n",
       "      <td>0</td>\n",
       "      <td>0</td>\n",
       "      <td>0</td>\n",
       "      <td>0</td>\n",
       "      <td>0</td>\n",
       "      <td>0</td>\n",
       "      <td>...</td>\n",
       "      <td>0</td>\n",
       "      <td>0</td>\n",
       "      <td>0</td>\n",
       "      <td>0</td>\n",
       "      <td>Block 1020, Block Group 1, Census Tract 104, B...</td>\n",
       "      <td>22</td>\n",
       "      <td>15</td>\n",
       "      <td>10400</td>\n",
       "      <td>1020</td>\n",
       "      <td>220150104001020</td>\n",
       "    </tr>\n",
       "    <tr>\n",
       "      <th>1</th>\n",
       "      <td>1</td>\n",
       "      <td>47</td>\n",
       "      <td>16</td>\n",
       "      <td>16</td>\n",
       "      <td>0</td>\n",
       "      <td>0</td>\n",
       "      <td>0</td>\n",
       "      <td>0</td>\n",
       "      <td>8</td>\n",
       "      <td>7</td>\n",
       "      <td>...</td>\n",
       "      <td>0</td>\n",
       "      <td>0</td>\n",
       "      <td>0</td>\n",
       "      <td>7</td>\n",
       "      <td>Block 1034, Block Group 1, Census Tract 104, B...</td>\n",
       "      <td>22</td>\n",
       "      <td>15</td>\n",
       "      <td>10400</td>\n",
       "      <td>1034</td>\n",
       "      <td>220150104001034</td>\n",
       "    </tr>\n",
       "  </tbody>\n",
       "</table>\n",
       "<p>2 rows × 32 columns</p>\n",
       "</div>"
      ],
      "text/plain": [
       "   Unnamed: 0  TOTPOP  NH_WHITE  NH_BLACK  NH_AMIN  NH_ASIAN  NH_NHPI  \\\n",
       "0           0       0         0         0        0         0        0   \n",
       "1           1      47        16        16        0         0        0   \n",
       "\n",
       "   NH_OTHER  NH_2MORE  HISP  ...  ASIANVAP  NHPIVAP  OTHERVAP  2MOREVAP  \\\n",
       "0         0         0     0  ...         0        0         0         0   \n",
       "1         0         8     7  ...         0        0         0         7   \n",
       "\n",
       "                                                NAME  state  county  tract  \\\n",
       "0  Block 1020, Block Group 1, Census Tract 104, B...     22      15  10400   \n",
       "1  Block 1034, Block Group 1, Census Tract 104, B...     22      15  10400   \n",
       "\n",
       "   block          GEOID10  \n",
       "0   1020  220150104001020  \n",
       "1   1034  220150104001034  \n",
       "\n",
       "[2 rows x 32 columns]"
      ]
     },
     "execution_count": 8,
     "metadata": {},
     "output_type": "execute_result"
    }
   ],
   "source": [
    "la_demo = pd.read_csv('la_demo_census_2010_blocks.csv')\n",
    "blocks = la_demo.astype({\"GEOID10\": str})\n",
    "blocks.head(2)"
   ]
  },
  {
   "cell_type": "markdown",
   "metadata": {},
   "source": [
    "These files are accessible in S3, or temporarily on github for the purpose of the demo. Make sure to unzip the files so that these are accessible to read them in as geopandas dataframes.\n"
   ]
  },
  {
   "cell_type": "code",
   "execution_count": 9,
   "metadata": {},
   "outputs": [],
   "source": [
    "##Extract blocks via TigerWeb API\n",
    "\n"
   ]
  },
  {
   "cell_type": "code",
   "execution_count": 10,
   "metadata": {},
   "outputs": [],
   "source": [
    "#blocks = pd.read_csv(\"./raw-from-source/demographic_data/nhgis_ds172_2010_block.csv\") #census data we queried above\n",
    "\n",
    "# Block shapefile also retrieved separately from the census\n",
    "block_shp = gp.read_file(\"./raw-data/tl_2010_22_tabblock10/tl_2010_22_tabblock10.shp\")\n"
   ]
  },
  {
   "cell_type": "code",
   "execution_count": 11,
   "metadata": {},
   "outputs": [],
   "source": [
    "# Precinct shapefile retrieved from the Louisiana House of Representatives\n",
    "precincts = gp.read_file(\"./raw-data/2018_precincts/2018 LA Precincts for the Web.shp\")"
   ]
  },
  {
   "cell_type": "markdown",
   "metadata": {},
   "source": [
    "**set shapefile projections**"
   ]
  },
  {
   "cell_type": "markdown",
   "metadata": {},
   "source": [
    "Confirm the projection of the precinct shapefile, as documented here: https://github.com/mggg-states/VA-shapefiles\n",
    "\n",
    "CRS = coordinate reference system\n"
   ]
  },
  {
   "cell_type": "code",
   "execution_count": 12,
   "metadata": {},
   "outputs": [
    {
     "data": {
      "text/plain": [
       "<Geographic 2D CRS: EPSG:4019>\n",
       "Name: Unknown datum based upon the GRS 1980 ellipsoid\n",
       "Axis Info [ellipsoidal]:\n",
       "- Lat[north]: Geodetic latitude (degree)\n",
       "- Lon[east]: Geodetic longitude (degree)\n",
       "Area of Use:\n",
       "- name: Not specified\n",
       "- bounds: (-180.0, -90.0, 180.0, 90.0)\n",
       "Datum: Not specified (based on GRS 1980 ellipsoid)\n",
       "- Ellipsoid: GRS 1980\n",
       "- Prime Meridian: Greenwich"
      ]
     },
     "execution_count": 12,
     "metadata": {},
     "output_type": "execute_result"
    }
   ],
   "source": [
    "precincts.crs"
   ]
  },
  {
   "cell_type": "code",
   "execution_count": 13,
   "metadata": {},
   "outputs": [],
   "source": [
    "proj = precincts.crs"
   ]
  },
  {
   "cell_type": "markdown",
   "metadata": {},
   "source": [
    "Project the block shapefile and precincts to NAD83, saved above\n"
   ]
  },
  {
   "cell_type": "code",
   "execution_count": 14,
   "metadata": {},
   "outputs": [],
   "source": [
    "precincts = precincts.to_crs(proj)\n",
    "block_shp = block_shp.to_crs(proj)"
   ]
  },
  {
   "cell_type": "code",
   "execution_count": 15,
   "metadata": {},
   "outputs": [
    {
     "data": {
      "text/plain": [
       "['GeoDataFrame',\n",
       " 'GeoSeries',\n",
       " '__builtins__',\n",
       " '__cached__',\n",
       " '__doc__',\n",
       " '__file__',\n",
       " '__loader__',\n",
       " '__name__',\n",
       " '__package__',\n",
       " '__path__',\n",
       " '__spec__',\n",
       " '__version__',\n",
       " '_compat',\n",
       " '_config',\n",
       " '_vectorized',\n",
       " '_version',\n",
       " 'array',\n",
       " 'base',\n",
       " 'clip',\n",
       " 'datasets',\n",
       " 'geodataframe',\n",
       " 'geopandas',\n",
       " 'geoseries',\n",
       " 'gpd',\n",
       " 'io',\n",
       " 'np',\n",
       " 'options',\n",
       " 'overlay',\n",
       " 'pd',\n",
       " 'plotting',\n",
       " 'points_from_xy',\n",
       " 'read_feather',\n",
       " 'read_file',\n",
       " 'read_parquet',\n",
       " 'read_postgis',\n",
       " 'show_versions',\n",
       " 'sindex',\n",
       " 'sjoin',\n",
       " 'tools']"
      ]
     },
     "execution_count": 15,
     "metadata": {},
     "output_type": "execute_result"
    }
   ],
   "source": [
    "final = gp.read_file('./MGGG-la-final/LA_1519/LA_1519.shp')\n",
    "dir(gp)"
   ]
  },
  {
   "cell_type": "code",
   "execution_count": 65,
   "metadata": {},
   "outputs": [
    {
     "data": {
      "text/plain": [
       "<Projected CRS: EPSG:6476>\n",
       "Name: NAD83(2011) / Louisiana North\n",
       "Axis Info [cartesian]:\n",
       "- X[east]: Easting (metre)\n",
       "- Y[north]: Northing (metre)\n",
       "Area of Use:\n",
       "- name: USA - Louisiana - SPCS - N\n",
       "- bounds: (-94.05, 30.85, -90.86, 33.03)\n",
       "Coordinate Operation:\n",
       "- name: SPCS83 Louisiana North zone (meters)\n",
       "- method: Lambert Conic Conformal (2SP)\n",
       "Datum: NAD83 (National Spatial Reference System 2011)\n",
       "- Ellipsoid: GRS 1980\n",
       "- Prime Meridian: Greenwich"
      ]
     },
     "execution_count": 65,
     "metadata": {},
     "output_type": "execute_result"
    }
   ],
   "source": [
    "proj = final.crs\n",
    "proj"
   ]
  },
  {
   "cell_type": "markdown",
   "metadata": {},
   "source": [
    " "
   ]
  },
  {
   "cell_type": "code",
   "execution_count": 66,
   "metadata": {},
   "outputs": [],
   "source": [
    "final = final.to_crs(proj)\n",
    "precincts = precincts.to_crs(proj)"
   ]
  },
  {
   "cell_type": "code",
   "execution_count": 134,
   "metadata": {
    "scrolled": true
   },
   "outputs": [
    {
     "name": "stdout",
     "output_type": "stream",
     "text": [
      "number of differing precincts:  28\n",
      "[1277     22051125\n",
      "1458     220516-K\n",
      "1473     220517-K\n",
      "3694     2207352A\n",
      "3695     2207356A\n",
      "3696    22051125B\n",
      "3697       220479\n",
      "3698    220092-5B\n",
      "3699    220333-56\n",
      "3700    220333-55\n",
      "3701     220896-3\n",
      "3702     220896-5\n",
      "3703     220893-6\n",
      "3704     220892-7\n",
      "3705     220893-4\n",
      "3706    22051125A\n",
      "3707    220516-KA\n",
      "3708    220516-KB\n",
      "3709    220517-KB\n",
      "3710    220517-KA\n",
      "3711      220637D\n",
      "3712    22105143A\n",
      "3713      220731A\n",
      "3714      2208758\n",
      "3715      2208755\n",
      "3716     220752-2\n",
      "3717     220755-2\n",
      "3718     220754-2\n",
      "Name: GEOID10, dtype: object]\n",
      "Number of different rows:  22\n",
      "raw file rows:  3716\n",
      "mggg-la rows:  3694\n",
      "outer merge test rows:  3719\n"
     ]
    }
   ],
   "source": [
    "joined = pd.merge(final, precincts, on=['GEOID10'], indicator=True, how='outer')\n",
    "differing_precincts = joined[joined['_merge'] != 'both']\n",
    "print('number of differing precincts: ', differing_precincts.shape[0])\n",
    "differing_precincts_GEOIDs = [differing_precincts['GEOID10']]\n",
    "print(differing_precincts_GEOIDs)\n",
    "joined_inner = pd.merge(final, precincts, on=['GEOID10'], how='inner')\n",
    "final_rows = final.shape[0]\n",
    "precinct_rows = precincts.shape[0]\n",
    "print(\"Number of different rows: \", abs(final_rows-precinct_rows))\n",
    "print(\"raw file rows: \", precinct_rows)\n",
    "print(\"mggg-la rows: \", final_rows)\n",
    "print(\"outer merge test rows: \", joined_outer.shape[0])\n",
    "#Find where 'State' or 'ID' are empty and return -- these are ones that are different between the two"
   ]
  },
  {
   "cell_type": "markdown",
   "metadata": {},
   "source": [
    "**Join block-level deomographic data with block-level shapefile**"
   ]
  },
  {
   "cell_type": "code",
   "execution_count": 17,
   "metadata": {},
   "outputs": [
    {
     "data": {
      "text/html": [
       "<div>\n",
       "<style scoped>\n",
       "    .dataframe tbody tr th:only-of-type {\n",
       "        vertical-align: middle;\n",
       "    }\n",
       "\n",
       "    .dataframe tbody tr th {\n",
       "        vertical-align: top;\n",
       "    }\n",
       "\n",
       "    .dataframe thead th {\n",
       "        text-align: right;\n",
       "    }\n",
       "</style>\n",
       "<table border=\"1\" class=\"dataframe\">\n",
       "  <thead>\n",
       "    <tr style=\"text-align: right;\">\n",
       "      <th></th>\n",
       "      <th>STATEFP10</th>\n",
       "      <th>COUNTYFP10</th>\n",
       "      <th>TRACTCE10</th>\n",
       "      <th>BLOCKCE10</th>\n",
       "      <th>GEOID10</th>\n",
       "      <th>NAME10</th>\n",
       "      <th>MTFCC10</th>\n",
       "      <th>UR10</th>\n",
       "      <th>UACE10</th>\n",
       "      <th>UATYP10</th>\n",
       "      <th>FUNCSTAT10</th>\n",
       "      <th>ALAND10</th>\n",
       "      <th>AWATER10</th>\n",
       "      <th>INTPTLAT10</th>\n",
       "      <th>INTPTLON10</th>\n",
       "      <th>geometry</th>\n",
       "    </tr>\n",
       "  </thead>\n",
       "  <tbody>\n",
       "    <tr>\n",
       "      <th>0</th>\n",
       "      <td>22</td>\n",
       "      <td>001</td>\n",
       "      <td>960400</td>\n",
       "      <td>2067</td>\n",
       "      <td>220019604002067</td>\n",
       "      <td>Block 2067</td>\n",
       "      <td>G5040</td>\n",
       "      <td>R</td>\n",
       "      <td>None</td>\n",
       "      <td>None</td>\n",
       "      <td>S</td>\n",
       "      <td>10663</td>\n",
       "      <td>0</td>\n",
       "      <td>+30.3255454</td>\n",
       "      <td>-092.4905919</td>\n",
       "      <td>POLYGON ((-92.49005 30.32601, -92.49005 30.325...</td>\n",
       "    </tr>\n",
       "    <tr>\n",
       "      <th>1</th>\n",
       "      <td>22</td>\n",
       "      <td>001</td>\n",
       "      <td>960400</td>\n",
       "      <td>2073</td>\n",
       "      <td>220019604002073</td>\n",
       "      <td>Block 2073</td>\n",
       "      <td>G5040</td>\n",
       "      <td>R</td>\n",
       "      <td>None</td>\n",
       "      <td>None</td>\n",
       "      <td>S</td>\n",
       "      <td>15680</td>\n",
       "      <td>0</td>\n",
       "      <td>+30.3206207</td>\n",
       "      <td>-092.4905579</td>\n",
       "      <td>POLYGON ((-92.49002 30.31993, -92.49029 30.319...</td>\n",
       "    </tr>\n",
       "  </tbody>\n",
       "</table>\n",
       "</div>"
      ],
      "text/plain": [
       "  STATEFP10 COUNTYFP10 TRACTCE10 BLOCKCE10          GEOID10      NAME10  \\\n",
       "0        22        001    960400      2067  220019604002067  Block 2067   \n",
       "1        22        001    960400      2073  220019604002073  Block 2073   \n",
       "\n",
       "  MTFCC10 UR10 UACE10 UATYP10 FUNCSTAT10  ALAND10  AWATER10   INTPTLAT10  \\\n",
       "0   G5040    R   None    None          S    10663         0  +30.3255454   \n",
       "1   G5040    R   None    None          S    15680         0  +30.3206207   \n",
       "\n",
       "     INTPTLON10                                           geometry  \n",
       "0  -092.4905919  POLYGON ((-92.49005 30.32601, -92.49005 30.325...  \n",
       "1  -092.4905579  POLYGON ((-92.49002 30.31993, -92.49029 30.319...  "
      ]
     },
     "execution_count": 17,
     "metadata": {},
     "output_type": "execute_result"
    }
   ],
   "source": [
    "block_shp.head(2)"
   ]
  },
  {
   "cell_type": "markdown",
   "metadata": {},
   "source": [
    "Join the block shapefile to the census demographic data on the GEOID\n"
   ]
  },
  {
   "cell_type": "code",
   "execution_count": 18,
   "metadata": {},
   "outputs": [],
   "source": [
    "blk_joined = pd.merge(block_shp, blocks, on='GEOID10', how='left', indicator=True)"
   ]
  },
  {
   "cell_type": "markdown",
   "metadata": {},
   "source": [
    "Check total population - join is good!"
   ]
  },
  {
   "cell_type": "code",
   "execution_count": 19,
   "metadata": {},
   "outputs": [
    {
     "data": {
      "text/plain": [
       "4533372"
      ]
     },
     "execution_count": 19,
     "metadata": {},
     "output_type": "execute_result"
    }
   ],
   "source": [
    "blk_joined.TOTPOP.sum()"
   ]
  },
  {
   "cell_type": "code",
   "execution_count": 20,
   "metadata": {},
   "outputs": [
    {
     "data": {
      "text/html": [
       "<div>\n",
       "<style scoped>\n",
       "    .dataframe tbody tr th:only-of-type {\n",
       "        vertical-align: middle;\n",
       "    }\n",
       "\n",
       "    .dataframe tbody tr th {\n",
       "        vertical-align: top;\n",
       "    }\n",
       "\n",
       "    .dataframe thead th {\n",
       "        text-align: right;\n",
       "    }\n",
       "</style>\n",
       "<table border=\"1\" class=\"dataframe\">\n",
       "  <thead>\n",
       "    <tr style=\"text-align: right;\">\n",
       "      <th></th>\n",
       "      <th>GEOID10</th>\n",
       "      <th>geometry</th>\n",
       "      <th>TOTPOP</th>\n",
       "      <th>NH_WHITE</th>\n",
       "      <th>VAP</th>\n",
       "    </tr>\n",
       "  </thead>\n",
       "  <tbody>\n",
       "    <tr>\n",
       "      <th>0</th>\n",
       "      <td>220019604002067</td>\n",
       "      <td>POLYGON ((-92.49005 30.32601, -92.49005 30.325...</td>\n",
       "      <td>0</td>\n",
       "      <td>0</td>\n",
       "      <td>0</td>\n",
       "    </tr>\n",
       "    <tr>\n",
       "      <th>1</th>\n",
       "      <td>220019604002073</td>\n",
       "      <td>POLYGON ((-92.49002 30.31993, -92.49029 30.319...</td>\n",
       "      <td>30</td>\n",
       "      <td>29</td>\n",
       "      <td>20</td>\n",
       "    </tr>\n",
       "    <tr>\n",
       "      <th>2</th>\n",
       "      <td>220019604002077</td>\n",
       "      <td>POLYGON ((-92.49102 30.31685, -92.49036 30.316...</td>\n",
       "      <td>5</td>\n",
       "      <td>5</td>\n",
       "      <td>1</td>\n",
       "    </tr>\n",
       "    <tr>\n",
       "      <th>3</th>\n",
       "      <td>220019602002026</td>\n",
       "      <td>POLYGON ((-92.46568 30.45666, -92.46568 30.456...</td>\n",
       "      <td>62</td>\n",
       "      <td>54</td>\n",
       "      <td>46</td>\n",
       "    </tr>\n",
       "    <tr>\n",
       "      <th>4</th>\n",
       "      <td>220019603003028</td>\n",
       "      <td>POLYGON ((-92.56331 30.23613, -92.56818 30.236...</td>\n",
       "      <td>0</td>\n",
       "      <td>0</td>\n",
       "      <td>0</td>\n",
       "    </tr>\n",
       "    <tr>\n",
       "      <th>5</th>\n",
       "      <td>220019603002020</td>\n",
       "      <td>POLYGON ((-92.56514 30.30034, -92.56530 30.300...</td>\n",
       "      <td>26</td>\n",
       "      <td>26</td>\n",
       "      <td>19</td>\n",
       "    </tr>\n",
       "    <tr>\n",
       "      <th>6</th>\n",
       "      <td>220019604002099</td>\n",
       "      <td>POLYGON ((-92.49680 30.33185, -92.49667 30.331...</td>\n",
       "      <td>0</td>\n",
       "      <td>0</td>\n",
       "      <td>0</td>\n",
       "    </tr>\n",
       "    <tr>\n",
       "      <th>7</th>\n",
       "      <td>220019603003019</td>\n",
       "      <td>POLYGON ((-92.60249 30.23649, -92.60301 30.236...</td>\n",
       "      <td>0</td>\n",
       "      <td>0</td>\n",
       "      <td>0</td>\n",
       "    </tr>\n",
       "    <tr>\n",
       "      <th>8</th>\n",
       "      <td>220019602002049</td>\n",
       "      <td>POLYGON ((-92.47516 30.42296, -92.47528 30.422...</td>\n",
       "      <td>4</td>\n",
       "      <td>4</td>\n",
       "      <td>2</td>\n",
       "    </tr>\n",
       "    <tr>\n",
       "      <th>9</th>\n",
       "      <td>220019602003017</td>\n",
       "      <td>POLYGON ((-92.40909 30.39256, -92.40909 30.394...</td>\n",
       "      <td>12</td>\n",
       "      <td>12</td>\n",
       "      <td>6</td>\n",
       "    </tr>\n",
       "  </tbody>\n",
       "</table>\n",
       "</div>"
      ],
      "text/plain": [
       "           GEOID10                                           geometry  TOTPOP  \\\n",
       "0  220019604002067  POLYGON ((-92.49005 30.32601, -92.49005 30.325...       0   \n",
       "1  220019604002073  POLYGON ((-92.49002 30.31993, -92.49029 30.319...      30   \n",
       "2  220019604002077  POLYGON ((-92.49102 30.31685, -92.49036 30.316...       5   \n",
       "3  220019602002026  POLYGON ((-92.46568 30.45666, -92.46568 30.456...      62   \n",
       "4  220019603003028  POLYGON ((-92.56331 30.23613, -92.56818 30.236...       0   \n",
       "5  220019603002020  POLYGON ((-92.56514 30.30034, -92.56530 30.300...      26   \n",
       "6  220019604002099  POLYGON ((-92.49680 30.33185, -92.49667 30.331...       0   \n",
       "7  220019603003019  POLYGON ((-92.60249 30.23649, -92.60301 30.236...       0   \n",
       "8  220019602002049  POLYGON ((-92.47516 30.42296, -92.47528 30.422...       4   \n",
       "9  220019602003017  POLYGON ((-92.40909 30.39256, -92.40909 30.394...      12   \n",
       "\n",
       "   NH_WHITE  VAP  \n",
       "0         0    0  \n",
       "1        29   20  \n",
       "2         5    1  \n",
       "3        54   46  \n",
       "4         0    0  \n",
       "5        26   19  \n",
       "6         0    0  \n",
       "7         0    0  \n",
       "8         4    2  \n",
       "9        12    6  "
      ]
     },
     "execution_count": 20,
     "metadata": {},
     "output_type": "execute_result"
    }
   ],
   "source": [
    "blk_joined[['GEOID10','geometry','TOTPOP','NH_WHITE','VAP']].head(10)"
   ]
  },
  {
   "cell_type": "markdown",
   "metadata": {},
   "source": [
    "Make sure the map looks right!"
   ]
  },
  {
   "cell_type": "code",
   "execution_count": 21,
   "metadata": {},
   "outputs": [
    {
     "data": {
      "text/plain": [
       "<matplotlib.axes._subplots.AxesSubplot at 0x7fc110495d50>"
      ]
     },
     "execution_count": 21,
     "metadata": {},
     "output_type": "execute_result"
    },
    {
     "data": {
      "image/png": "[encoded data removed]",
      "text/plain": [
       "<Figure size 432x288 with 1 Axes>"
      ]
     },
     "metadata": {
      "needs_background": "light"
     },
     "output_type": "display_data"
    },
    {
     "data": {
      "image/png": "[encoded data removed]",
      "text/plain": [
       "<Figure size 432x288 with 1 Axes>"
      ]
     },
     "metadata": {
      "needs_background": "light"
     },
     "output_type": "display_data"
    }
   ],
   "source": [
    "blk_joined.plot()\n",
    "precincts.plot(color='green')"
   ]
  },
  {
   "cell_type": "markdown",
   "metadata": {},
   "source": [
    "### Prorate Demographic and Voting Population Data from the Block level to Precincts"
   ]
  },
  {
   "cell_type": "code",
   "execution_count": 22,
   "metadata": {},
   "outputs": [],
   "source": [
    "proj = blk_joined.crs"
   ]
  },
  {
   "cell_type": "markdown",
   "metadata": {},
   "source": [
    "This is sometimes necessary in order to get rid of topology errors\n",
    "Ruth from MGGG recommended this -- not sure exactly what it does but it works, \"buffer the geometries with zero distance\"\n"
   ]
  },
  {
   "cell_type": "code",
   "execution_count": 23,
   "metadata": {},
   "outputs": [],
   "source": [
    "blk_joined[\"geometry\"] = blk_joined.buffer(0)\n",
    "precincts[\"geometry\"] = precincts.buffer(0)"
   ]
  },
  {
   "cell_type": "markdown",
   "metadata": {},
   "source": [
    "See MAUP library for details (linked in imports). In short, MAUP assign is mapping every geometry in the census block file to the precinct file. \n"
   ]
  },
  {
   "cell_type": "code",
   "execution_count": 25,
   "metadata": {},
   "outputs": [
    {
     "name": "stderr",
     "output_type": "stream",
     "text": [
      "/Users/spencernelson/opt/anaconda3/lib/python3.7/site-packages/maup/intersections.py:42: UserWarning: Geometry is in a geographic CRS. Results from 'area' are likely incorrect. Use 'GeoSeries.to_crs()' to re-project geometries to a projected CRS before this operation.\n",
      "\n",
      "  geometries = geometries[geometries.area > area_cutoff]\n",
      "/Users/spencernelson/opt/anaconda3/lib/python3.7/site-packages/maup/assign.py:26: UserWarning: Geometry is in a geographic CRS. Results from 'area' are likely incorrect. Use 'GeoSeries.to_crs()' to re-project geometries to a projected CRS before this operation.\n",
      "\n",
      "  return assign_to_max(intersections(sources, targets, area_cutoff=0).area)\n"
     ]
    }
   ],
   "source": [
    "import warnings; warnings.filterwarnings('ignore', 'GeoSeries.isna', UserWarning)\n",
    "\n",
    "variables = ['TOTPOP','NH_WHITE', 'NH_BLACK', 'NH_AMIN', 'NH_ASIAN', \n",
    "             'NH_NHPI', 'NH_OTHER','NH_2MORE', 'HISP', \"H_WHITE\",\"H_BLACK\",\n",
    "             \"H_AMIN\", \"H_ASIAN\", \"H_NHPI\", \"H_OTHER\",\"H_2MORE\",\n",
    "             'WVAP', 'BVAP', 'AMINVAP','ASIANVAP', 'NHPIVAP', 'OTHERVAP', \n",
    "             '2MOREVAP'] \n",
    "\n",
    "blk_joined = blk_joined.to_crs(proj)\n",
    "\n",
    "pieces = maup.assign(blk_joined, precincts)"
   ]
  },
  {
   "cell_type": "markdown",
   "metadata": {},
   "source": [
    "Sum the census block demo columns within the precincts and assign them to the precinct shapefile\n"
   ]
  },
  {
   "cell_type": "code",
   "execution_count": 26,
   "metadata": {
    "scrolled": true
   },
   "outputs": [],
   "source": [
    "precincts[variables] = blk_joined[variables].groupby(pieces).sum()"
   ]
  },
  {
   "cell_type": "markdown",
   "metadata": {},
   "source": [
    "Confirm the total population of the precinct shapefile after prorating the census blocks to precincts\n"
   ]
  },
  {
   "cell_type": "code",
   "execution_count": 27,
   "metadata": {},
   "outputs": [
    {
     "data": {
      "text/plain": [
       "4533372"
      ]
     },
     "execution_count": 27,
     "metadata": {},
     "output_type": "execute_result"
    }
   ],
   "source": [
    "precincts.TOTPOP.sum()"
   ]
  },
  {
   "cell_type": "code",
   "execution_count": 28,
   "metadata": {},
   "outputs": [
    {
     "data": {
      "text/html": [
       "<div>\n",
       "<style scoped>\n",
       "    .dataframe tbody tr th:only-of-type {\n",
       "        vertical-align: middle;\n",
       "    }\n",
       "\n",
       "    .dataframe tbody tr th {\n",
       "        vertical-align: top;\n",
       "    }\n",
       "\n",
       "    .dataframe thead th {\n",
       "        text-align: right;\n",
       "    }\n",
       "</style>\n",
       "<table border=\"1\" class=\"dataframe\">\n",
       "  <thead>\n",
       "    <tr style=\"text-align: right;\">\n",
       "      <th></th>\n",
       "      <th>ID</th>\n",
       "      <th>AREA</th>\n",
       "      <th>OBJECTID</th>\n",
       "      <th>STATEFP10</th>\n",
       "      <th>COUNTYFP10</th>\n",
       "      <th>VTDST10</th>\n",
       "      <th>GEOID10</th>\n",
       "      <th>VTDI10</th>\n",
       "      <th>NAME10</th>\n",
       "      <th>NAMELSAD10</th>\n",
       "      <th>...</th>\n",
       "      <th>H_NHPI</th>\n",
       "      <th>H_OTHER</th>\n",
       "      <th>H_2MORE</th>\n",
       "      <th>WVAP</th>\n",
       "      <th>BVAP</th>\n",
       "      <th>AMINVAP</th>\n",
       "      <th>ASIANVAP</th>\n",
       "      <th>NHPIVAP</th>\n",
       "      <th>OTHERVAP</th>\n",
       "      <th>2MOREVAP</th>\n",
       "    </tr>\n",
       "  </thead>\n",
       "  <tbody>\n",
       "    <tr>\n",
       "      <th>0</th>\n",
       "      <td>3162</td>\n",
       "      <td>147.168381</td>\n",
       "      <td>3360</td>\n",
       "      <td>22</td>\n",
       "      <td>111</td>\n",
       "      <td>24</td>\n",
       "      <td>2211124</td>\n",
       "      <td>A</td>\n",
       "      <td>Precinct 24</td>\n",
       "      <td>Precinct 24</td>\n",
       "      <td>...</td>\n",
       "      <td>0</td>\n",
       "      <td>10</td>\n",
       "      <td>4</td>\n",
       "      <td>560</td>\n",
       "      <td>190</td>\n",
       "      <td>5</td>\n",
       "      <td>0</td>\n",
       "      <td>0</td>\n",
       "      <td>0</td>\n",
       "      <td>3</td>\n",
       "    </tr>\n",
       "    <tr>\n",
       "      <th>1</th>\n",
       "      <td>2161</td>\n",
       "      <td>239.121475</td>\n",
       "      <td>3396</td>\n",
       "      <td>22</td>\n",
       "      <td>113</td>\n",
       "      <td>23</td>\n",
       "      <td>2211323</td>\n",
       "      <td>A</td>\n",
       "      <td>Precinct 23</td>\n",
       "      <td>Precinct 23</td>\n",
       "      <td>...</td>\n",
       "      <td>0</td>\n",
       "      <td>31</td>\n",
       "      <td>0</td>\n",
       "      <td>844</td>\n",
       "      <td>20</td>\n",
       "      <td>7</td>\n",
       "      <td>1</td>\n",
       "      <td>0</td>\n",
       "      <td>0</td>\n",
       "      <td>8</td>\n",
       "    </tr>\n",
       "    <tr>\n",
       "      <th>2</th>\n",
       "      <td>2148</td>\n",
       "      <td>392.914185</td>\n",
       "      <td>3371</td>\n",
       "      <td>22</td>\n",
       "      <td>113</td>\n",
       "      <td>16</td>\n",
       "      <td>2211316</td>\n",
       "      <td>A</td>\n",
       "      <td>Precinct 16</td>\n",
       "      <td>Precinct 16</td>\n",
       "      <td>...</td>\n",
       "      <td>0</td>\n",
       "      <td>0</td>\n",
       "      <td>0</td>\n",
       "      <td>139</td>\n",
       "      <td>1</td>\n",
       "      <td>3</td>\n",
       "      <td>0</td>\n",
       "      <td>0</td>\n",
       "      <td>0</td>\n",
       "      <td>0</td>\n",
       "    </tr>\n",
       "    <tr>\n",
       "      <th>3</th>\n",
       "      <td>2987</td>\n",
       "      <td>29.314260</td>\n",
       "      <td>3352</td>\n",
       "      <td>22</td>\n",
       "      <td>111</td>\n",
       "      <td>22</td>\n",
       "      <td>2211122</td>\n",
       "      <td>A</td>\n",
       "      <td>Precinct 22</td>\n",
       "      <td>Precinct 22</td>\n",
       "      <td>...</td>\n",
       "      <td>0</td>\n",
       "      <td>8</td>\n",
       "      <td>0</td>\n",
       "      <td>854</td>\n",
       "      <td>28</td>\n",
       "      <td>1</td>\n",
       "      <td>2</td>\n",
       "      <td>0</td>\n",
       "      <td>0</td>\n",
       "      <td>5</td>\n",
       "    </tr>\n",
       "    <tr>\n",
       "      <th>4</th>\n",
       "      <td>3288</td>\n",
       "      <td>202.215469</td>\n",
       "      <td>3401</td>\n",
       "      <td>22</td>\n",
       "      <td>113</td>\n",
       "      <td>14</td>\n",
       "      <td>2211314</td>\n",
       "      <td>A</td>\n",
       "      <td>Precinct 14</td>\n",
       "      <td>Precinct 14</td>\n",
       "      <td>...</td>\n",
       "      <td>0</td>\n",
       "      <td>8</td>\n",
       "      <td>4</td>\n",
       "      <td>1740</td>\n",
       "      <td>4</td>\n",
       "      <td>6</td>\n",
       "      <td>1</td>\n",
       "      <td>0</td>\n",
       "      <td>0</td>\n",
       "      <td>10</td>\n",
       "    </tr>\n",
       "  </tbody>\n",
       "</table>\n",
       "<p>5 rows × 55 columns</p>\n",
       "</div>"
      ],
      "text/plain": [
       "     ID        AREA  OBJECTID STATEFP10 COUNTYFP10 VTDST10  GEOID10 VTDI10  \\\n",
       "0  3162  147.168381      3360        22        111      24  2211124      A   \n",
       "1  2161  239.121475      3396        22        113      23  2211323      A   \n",
       "2  2148  392.914185      3371        22        113      16  2211316      A   \n",
       "3  2987   29.314260      3352        22        111      22  2211122      A   \n",
       "4  3288  202.215469      3401        22        113      14  2211314      A   \n",
       "\n",
       "        NAME10   NAMELSAD10  ... H_NHPI H_OTHER H_2MORE  WVAP  BVAP AMINVAP  \\\n",
       "0  Precinct 24  Precinct 24  ...      0      10       4   560   190       5   \n",
       "1  Precinct 23  Precinct 23  ...      0      31       0   844    20       7   \n",
       "2  Precinct 16  Precinct 16  ...      0       0       0   139     1       3   \n",
       "3  Precinct 22  Precinct 22  ...      0       8       0   854    28       1   \n",
       "4  Precinct 14  Precinct 14  ...      0       8       4  1740     4       6   \n",
       "\n",
       "  ASIANVAP  NHPIVAP OTHERVAP 2MOREVAP  \n",
       "0        0        0        0        3  \n",
       "1        1        0        0        8  \n",
       "2        0        0        0        0  \n",
       "3        2        0        0        5  \n",
       "4        1        0        0       10  \n",
       "\n",
       "[5 rows x 55 columns]"
      ]
     },
     "execution_count": 28,
     "metadata": {},
     "output_type": "execute_result"
    }
   ],
   "source": [
    "precincts.head()"
   ]
  },
  {
   "cell_type": "markdown",
   "metadata": {},
   "source": [
    " "
   ]
  },
  {
   "cell_type": "markdown",
   "metadata": {},
   "source": [
    "**Assign congressional districts to precincts**"
   ]
  },
  {
   "cell_type": "markdown",
   "metadata": {},
   "source": [
    "Because the MGGG file contains CDs, read in the shapefile and project it\n"
   ]
  },
  {
   "cell_type": "code",
   "execution_count": 20,
   "metadata": {},
   "outputs": [],
   "source": [
    "##cd = gp.read_file('./raw-from-source/congressional_districts/Mod_16_shpfile.shp')"
   ]
  },
  {
   "cell_type": "code",
   "execution_count": 21,
   "metadata": {},
   "outputs": [],
   "source": [
    "##cd = cd.to_crs(proj)"
   ]
  },
  {
   "cell_type": "markdown",
   "metadata": {},
   "source": [
    "Assign the CDs to the precinct as well using MAUP, save the assignments to a separate object\n"
   ]
  },
  {
   "cell_type": "code",
   "execution_count": 22,
   "metadata": {},
   "outputs": [
    {
     "name": "stderr",
     "output_type": "stream",
     "text": [
      "/Users/spencernelson/opt/anaconda3/lib/python3.7/site-packages/maup/intersections.py:42: UserWarning: Geometry is in a geographic CRS. Results from 'area' are likely incorrect. Use 'GeoSeries.to_crs()' to re-project geometries to a projected CRS before this operation.\n",
      "\n",
      "  geometries = geometries[geometries.area > area_cutoff]\n",
      "/Users/spencernelson/opt/anaconda3/lib/python3.7/site-packages/maup/assign.py:26: UserWarning: Geometry is in a geographic CRS. Results from 'area' are likely incorrect. Use 'GeoSeries.to_crs()' to re-project geometries to a projected CRS before this operation.\n",
      "\n",
      "  return assign_to_max(intersections(sources, targets, area_cutoff=0).area)\n"
     ]
    }
   ],
   "source": [
    "##assignments = maup.assign(precincts, cd)"
   ]
  },
  {
   "cell_type": "markdown",
   "metadata": {},
   "source": [
    "See what it looks like. There are 11 CDs in VA, but these are numbered 0-10, need to bump them all up by 1 because of Python indexing and then confirm after that that looks right. \n"
   ]
  },
  {
   "cell_type": "code",
   "execution_count": 23,
   "metadata": {},
   "outputs": [
    {
     "name": "stdout",
     "output_type": "stream",
     "text": [
      "[ 1  2  5  8  4  7  6  0  3  9 10]\n"
     ]
    }
   ],
   "source": [
    "#print(assignments.unique())\n"
   ]
  },
  {
   "cell_type": "code",
   "execution_count": 24,
   "metadata": {},
   "outputs": [],
   "source": [
    "# There is no '0' district, need to add 1 to IDs\n",
    "#assignments = assignments + 1.0"
   ]
  },
  {
   "cell_type": "code",
   "execution_count": 25,
   "metadata": {},
   "outputs": [],
   "source": [
    "# Assign the CDs to the precincts shapefile\n",
    "#precincts[\"CD_DIST\"] = assignments"
   ]
  },
  {
   "cell_type": "code",
   "execution_count": 26,
   "metadata": {},
   "outputs": [
    {
     "data": {
      "text/html": [
       "<div>\n",
       "<style scoped>\n",
       "    .dataframe tbody tr th:only-of-type {\n",
       "        vertical-align: middle;\n",
       "    }\n",
       "\n",
       "    .dataframe tbody tr th {\n",
       "        vertical-align: top;\n",
       "    }\n",
       "\n",
       "    .dataframe thead th {\n",
       "        text-align: right;\n",
       "    }\n",
       "</style>\n",
       "<table border=\"1\" class=\"dataframe\">\n",
       "  <thead>\n",
       "    <tr style=\"text-align: right;\">\n",
       "      <th></th>\n",
       "      <th>locality</th>\n",
       "      <th>loc_prec</th>\n",
       "      <th>district</th>\n",
       "      <th>HD</th>\n",
       "      <th>Precinct</th>\n",
       "      <th>G18DHOR</th>\n",
       "      <th>G18DSEN</th>\n",
       "      <th>G18OHOR</th>\n",
       "      <th>G18OSEN</th>\n",
       "      <th>G18RHOR</th>\n",
       "      <th>...</th>\n",
       "      <th>VAP</th>\n",
       "      <th>HVAP</th>\n",
       "      <th>WVAP</th>\n",
       "      <th>BVAP</th>\n",
       "      <th>AMINVAP</th>\n",
       "      <th>ASIANVAP</th>\n",
       "      <th>NHPIVAP</th>\n",
       "      <th>OTHERVAP</th>\n",
       "      <th>2MOREVAP</th>\n",
       "      <th>CD_DIST</th>\n",
       "    </tr>\n",
       "  </thead>\n",
       "  <tbody>\n",
       "    <tr>\n",
       "      <th>0</th>\n",
       "      <td>Norfolk</td>\n",
       "      <td>Norfolk Titustown</td>\n",
       "      <td>Congressional District 2</td>\n",
       "      <td>79</td>\n",
       "      <td>Titustown</td>\n",
       "      <td>666</td>\n",
       "      <td>680</td>\n",
       "      <td>0</td>\n",
       "      <td>12</td>\n",
       "      <td>87</td>\n",
       "      <td>...</td>\n",
       "      <td>5943</td>\n",
       "      <td>612</td>\n",
       "      <td>2763</td>\n",
       "      <td>2194</td>\n",
       "      <td>48</td>\n",
       "      <td>163</td>\n",
       "      <td>18</td>\n",
       "      <td>7</td>\n",
       "      <td>138</td>\n",
       "      <td>2.0</td>\n",
       "    </tr>\n",
       "    <tr>\n",
       "      <th>1</th>\n",
       "      <td>Norfolk</td>\n",
       "      <td>Norfolk Second Presbyterian</td>\n",
       "      <td>Congressional District 2</td>\n",
       "      <td>79</td>\n",
       "      <td>Second Presbyterian</td>\n",
       "      <td>1138</td>\n",
       "      <td>1165</td>\n",
       "      <td>0</td>\n",
       "      <td>43</td>\n",
       "      <td>620</td>\n",
       "      <td>...</td>\n",
       "      <td>6839</td>\n",
       "      <td>513</td>\n",
       "      <td>4043</td>\n",
       "      <td>1604</td>\n",
       "      <td>38</td>\n",
       "      <td>452</td>\n",
       "      <td>18</td>\n",
       "      <td>15</td>\n",
       "      <td>156</td>\n",
       "      <td>2.0</td>\n",
       "    </tr>\n",
       "    <tr>\n",
       "      <th>2</th>\n",
       "      <td>Norfolk</td>\n",
       "      <td>Norfolk Crossroads</td>\n",
       "      <td>Congressional District 2</td>\n",
       "      <td>100</td>\n",
       "      <td>Crossroads</td>\n",
       "      <td>894</td>\n",
       "      <td>893</td>\n",
       "      <td>0</td>\n",
       "      <td>48</td>\n",
       "      <td>657</td>\n",
       "      <td>...</td>\n",
       "      <td>3879</td>\n",
       "      <td>278</td>\n",
       "      <td>2577</td>\n",
       "      <td>816</td>\n",
       "      <td>14</td>\n",
       "      <td>112</td>\n",
       "      <td>2</td>\n",
       "      <td>2</td>\n",
       "      <td>78</td>\n",
       "      <td>2.0</td>\n",
       "    </tr>\n",
       "    <tr>\n",
       "      <th>3</th>\n",
       "      <td>Norfolk</td>\n",
       "      <td>Norfolk Northside</td>\n",
       "      <td>Congressional District 2</td>\n",
       "      <td>100</td>\n",
       "      <td>Northside</td>\n",
       "      <td>743</td>\n",
       "      <td>763</td>\n",
       "      <td>0</td>\n",
       "      <td>27</td>\n",
       "      <td>564</td>\n",
       "      <td>...</td>\n",
       "      <td>3032</td>\n",
       "      <td>195</td>\n",
       "      <td>2161</td>\n",
       "      <td>429</td>\n",
       "      <td>13</td>\n",
       "      <td>160</td>\n",
       "      <td>13</td>\n",
       "      <td>5</td>\n",
       "      <td>56</td>\n",
       "      <td>2.0</td>\n",
       "    </tr>\n",
       "    <tr>\n",
       "      <th>4</th>\n",
       "      <td>Norfolk</td>\n",
       "      <td>Norfolk Ballentine</td>\n",
       "      <td>Congressional District 3</td>\n",
       "      <td>89</td>\n",
       "      <td>Ballentine</td>\n",
       "      <td>1173</td>\n",
       "      <td>1154</td>\n",
       "      <td>0</td>\n",
       "      <td>23</td>\n",
       "      <td>0</td>\n",
       "      <td>...</td>\n",
       "      <td>3529</td>\n",
       "      <td>171</td>\n",
       "      <td>714</td>\n",
       "      <td>2543</td>\n",
       "      <td>14</td>\n",
       "      <td>20</td>\n",
       "      <td>2</td>\n",
       "      <td>2</td>\n",
       "      <td>63</td>\n",
       "      <td>3.0</td>\n",
       "    </tr>\n",
       "  </tbody>\n",
       "</table>\n",
       "<p>5 rows × 49 columns</p>\n",
       "</div>"
      ],
      "text/plain": [
       "  locality                     loc_prec                  district   HD  \\\n",
       "0  Norfolk            Norfolk Titustown  Congressional District 2   79   \n",
       "1  Norfolk  Norfolk Second Presbyterian  Congressional District 2   79   \n",
       "2  Norfolk           Norfolk Crossroads  Congressional District 2  100   \n",
       "3  Norfolk            Norfolk Northside  Congressional District 2  100   \n",
       "4  Norfolk           Norfolk Ballentine  Congressional District 3   89   \n",
       "\n",
       "              Precinct  G18DHOR  G18DSEN  G18OHOR  G18OSEN  G18RHOR  ...  \\\n",
       "0            Titustown      666      680        0       12       87  ...   \n",
       "1  Second Presbyterian     1138     1165        0       43      620  ...   \n",
       "2           Crossroads      894      893        0       48      657  ...   \n",
       "3            Northside      743      763        0       27      564  ...   \n",
       "4           Ballentine     1173     1154        0       23        0  ...   \n",
       "\n",
       "    VAP  HVAP  WVAP  BVAP  AMINVAP  ASIANVAP  NHPIVAP  OTHERVAP  2MOREVAP  \\\n",
       "0  5943   612  2763  2194       48       163       18         7       138   \n",
       "1  6839   513  4043  1604       38       452       18        15       156   \n",
       "2  3879   278  2577   816       14       112        2         2        78   \n",
       "3  3032   195  2161   429       13       160       13         5        56   \n",
       "4  3529   171   714  2543       14        20        2         2        63   \n",
       "\n",
       "   CD_DIST  \n",
       "0      2.0  \n",
       "1      2.0  \n",
       "2      2.0  \n",
       "3      2.0  \n",
       "4      3.0  \n",
       "\n",
       "[5 rows x 49 columns]"
      ]
     },
     "execution_count": 26,
     "metadata": {},
     "output_type": "execute_result"
    }
   ],
   "source": [
    "# Confirm what it looks like and that the CD assignment is correct by looking up some counties\n",
    "#precincts.head()"
   ]
  },
  {
   "cell_type": "markdown",
   "metadata": {},
   "source": [
    " "
   ]
  },
  {
   "cell_type": "markdown",
   "metadata": {},
   "source": [
    "**Assign house districts to blocks**"
   ]
  },
  {
   "cell_type": "markdown",
   "metadata": {},
   "source": [
    "The following has the same process as above CD assignment. "
   ]
  },
  {
   "cell_type": "markdown",
   "metadata": {},
   "source": [
    "**_2011_**"
   ]
  },
  {
   "cell_type": "code",
   "execution_count": 27,
   "metadata": {},
   "outputs": [],
   "source": [
    "#state_house11 = gp.read_file('./raw-from-source/house_districts2011/HB5005_passed_042811_houseplan.shp')\n",
    "#state_house11 = state_house11.to_crs(proj)"
   ]
  },
  {
   "cell_type": "code",
   "execution_count": 28,
   "metadata": {},
   "outputs": [],
   "source": [
    "#state_house11[\"geometry\"] = state_house11.buffer(0)"
   ]
  },
  {
   "cell_type": "code",
   "execution_count": 29,
   "metadata": {},
   "outputs": [
    {
     "name": "stderr",
     "output_type": "stream",
     "text": [
      "/Users/spencernelson/opt/anaconda3/lib/python3.7/site-packages/maup/intersections.py:42: UserWarning: Geometry is in a geographic CRS. Results from 'area' are likely incorrect. Use 'GeoSeries.to_crs()' to re-project geometries to a projected CRS before this operation.\n",
      "\n",
      "  geometries = geometries[geometries.area > area_cutoff]\n",
      "/Users/spencernelson/opt/anaconda3/lib/python3.7/site-packages/maup/assign.py:26: UserWarning: Geometry is in a geographic CRS. Results from 'area' are likely incorrect. Use 'GeoSeries.to_crs()' to re-project geometries to a projected CRS before this operation.\n",
      "\n",
      "  return assign_to_max(intersections(sources, targets, area_cutoff=0).area)\n"
     ]
    }
   ],
   "source": [
    "#assignments = maup.assign(precincts, state_house11)"
   ]
  },
  {
   "cell_type": "code",
   "execution_count": 30,
   "metadata": {},
   "outputs": [],
   "source": [
    "# There is no '0' district, need to add 1 to IDs\n",
    "#assignments += 1\n",
    "\n",
    "#precincts[\"HD_DIST11\"] = assignments"
   ]
  },
  {
   "cell_type": "markdown",
   "metadata": {},
   "source": [
    "**_2019_**"
   ]
  },
  {
   "cell_type": "code",
   "execution_count": 31,
   "metadata": {},
   "outputs": [],
   "source": [
    "#state_house19 = gp.read_file('./raw-from-source/house_districts2019/final_remedial_plan.shp')\n",
    "#state_house19 = state_house19.to_crs(proj)"
   ]
  },
  {
   "cell_type": "code",
   "execution_count": 32,
   "metadata": {},
   "outputs": [],
   "source": [
    "#state_house19[\"geometry\"] = state_house19.buffer(0)"
   ]
  },
  {
   "cell_type": "code",
   "execution_count": 33,
   "metadata": {},
   "outputs": [
    {
     "name": "stderr",
     "output_type": "stream",
     "text": [
      "/Users/spencernelson/opt/anaconda3/lib/python3.7/site-packages/maup/intersections.py:42: UserWarning: Geometry is in a geographic CRS. Results from 'area' are likely incorrect. Use 'GeoSeries.to_crs()' to re-project geometries to a projected CRS before this operation.\n",
      "\n",
      "  geometries = geometries[geometries.area > area_cutoff]\n",
      "/Users/spencernelson/opt/anaconda3/lib/python3.7/site-packages/maup/assign.py:26: UserWarning: Geometry is in a geographic CRS. Results from 'area' are likely incorrect. Use 'GeoSeries.to_crs()' to re-project geometries to a projected CRS before this operation.\n",
      "\n",
      "  return assign_to_max(intersections(sources, targets, area_cutoff=0).area)\n"
     ]
    }
   ],
   "source": [
    "#assignments = maup.assign(precincts, state_house19)"
   ]
  },
  {
   "cell_type": "code",
   "execution_count": 34,
   "metadata": {},
   "outputs": [],
   "source": [
    "# There is no '0' district, need to add 1 to IDs\n",
    "#assignments += 1\n",
    "\n",
    "#precincts[\"HD_DIST19\"] = assignments"
   ]
  },
  {
   "cell_type": "markdown",
   "metadata": {},
   "source": [
    "**Matched districts correspond to those included in precinct data**"
   ]
  },
  {
   "cell_type": "code",
   "execution_count": 35,
   "metadata": {},
   "outputs": [
    {
     "data": {
      "text/html": [
       "<div>\n",
       "<style scoped>\n",
       "    .dataframe tbody tr th:only-of-type {\n",
       "        vertical-align: middle;\n",
       "    }\n",
       "\n",
       "    .dataframe tbody tr th {\n",
       "        vertical-align: top;\n",
       "    }\n",
       "\n",
       "    .dataframe thead th {\n",
       "        text-align: right;\n",
       "    }\n",
       "</style>\n",
       "<table border=\"1\" class=\"dataframe\">\n",
       "  <thead>\n",
       "    <tr style=\"text-align: right;\">\n",
       "      <th></th>\n",
       "      <th>CD_DIST</th>\n",
       "      <th>district</th>\n",
       "    </tr>\n",
       "  </thead>\n",
       "  <tbody>\n",
       "    <tr>\n",
       "      <th>0</th>\n",
       "      <td>2.0</td>\n",
       "      <td>Congressional District 2</td>\n",
       "    </tr>\n",
       "    <tr>\n",
       "      <th>1</th>\n",
       "      <td>2.0</td>\n",
       "      <td>Congressional District 2</td>\n",
       "    </tr>\n",
       "    <tr>\n",
       "      <th>2</th>\n",
       "      <td>2.0</td>\n",
       "      <td>Congressional District 2</td>\n",
       "    </tr>\n",
       "    <tr>\n",
       "      <th>3</th>\n",
       "      <td>2.0</td>\n",
       "      <td>Congressional District 2</td>\n",
       "    </tr>\n",
       "    <tr>\n",
       "      <th>4</th>\n",
       "      <td>3.0</td>\n",
       "      <td>Congressional District 3</td>\n",
       "    </tr>\n",
       "    <tr>\n",
       "      <th>...</th>\n",
       "      <td>...</td>\n",
       "      <td>...</td>\n",
       "    </tr>\n",
       "    <tr>\n",
       "      <th>2434</th>\n",
       "      <td>2.0</td>\n",
       "      <td>Congressional District 2</td>\n",
       "    </tr>\n",
       "    <tr>\n",
       "      <th>2435</th>\n",
       "      <td>2.0</td>\n",
       "      <td>Congressional District 2</td>\n",
       "    </tr>\n",
       "    <tr>\n",
       "      <th>2436</th>\n",
       "      <td>2.0</td>\n",
       "      <td>Congressional District 2</td>\n",
       "    </tr>\n",
       "    <tr>\n",
       "      <th>2437</th>\n",
       "      <td>2.0</td>\n",
       "      <td>Congressional District 2</td>\n",
       "    </tr>\n",
       "    <tr>\n",
       "      <th>2438</th>\n",
       "      <td>2.0</td>\n",
       "      <td>Congressional District 2</td>\n",
       "    </tr>\n",
       "  </tbody>\n",
       "</table>\n",
       "<p>2439 rows × 2 columns</p>\n",
       "</div>"
      ],
      "text/plain": [
       "      CD_DIST                  district\n",
       "0         2.0  Congressional District 2\n",
       "1         2.0  Congressional District 2\n",
       "2         2.0  Congressional District 2\n",
       "3         2.0  Congressional District 2\n",
       "4         3.0  Congressional District 3\n",
       "...       ...                       ...\n",
       "2434      2.0  Congressional District 2\n",
       "2435      2.0  Congressional District 2\n",
       "2436      2.0  Congressional District 2\n",
       "2437      2.0  Congressional District 2\n",
       "2438      2.0  Congressional District 2\n",
       "\n",
       "[2439 rows x 2 columns]"
      ]
     },
     "execution_count": 35,
     "metadata": {},
     "output_type": "execute_result"
    }
   ],
   "source": [
    "#precincts[['CD_DIST', 'district']]"
   ]
  },
  {
   "cell_type": "code",
   "execution_count": 70,
   "metadata": {},
   "outputs": [
    {
     "data": {
      "text/html": [
       "<div>\n",
       "<style scoped>\n",
       "    .dataframe tbody tr th:only-of-type {\n",
       "        vertical-align: middle;\n",
       "    }\n",
       "\n",
       "    .dataframe tbody tr th {\n",
       "        vertical-align: top;\n",
       "    }\n",
       "\n",
       "    .dataframe thead th {\n",
       "        text-align: right;\n",
       "    }\n",
       "</style>\n",
       "<table border=\"1\" class=\"dataframe\">\n",
       "  <thead>\n",
       "    <tr style=\"text-align: right;\">\n",
       "      <th></th>\n",
       "      <th>SLDUST10</th>\n",
       "      <th>GEOID10</th>\n",
       "      <th>NAMELSAD10</th>\n",
       "      <th>TAPERSONS</th>\n",
       "      <th>TAHISPANIC</th>\n",
       "      <th>VAPERSONS</th>\n",
       "      <th>VAHISPANIC</th>\n",
       "      <th>White</th>\n",
       "      <th>Black</th>\n",
       "      <th>AIAN</th>\n",
       "      <th>...</th>\n",
       "      <th>VAPHawPI</th>\n",
       "      <th>VAPOther</th>\n",
       "      <th>VAPMulti</th>\n",
       "      <th>HspWhite</th>\n",
       "      <th>HspBlack</th>\n",
       "      <th>HspOther</th>\n",
       "      <th>VAPHispWh</th>\n",
       "      <th>VAPHispBl</th>\n",
       "      <th>VAPHispOt</th>\n",
       "      <th>geometry</th>\n",
       "    </tr>\n",
       "    <tr>\n",
       "      <th>SLDUST10</th>\n",
       "      <th></th>\n",
       "      <th></th>\n",
       "      <th></th>\n",
       "      <th></th>\n",
       "      <th></th>\n",
       "      <th></th>\n",
       "      <th></th>\n",
       "      <th></th>\n",
       "      <th></th>\n",
       "      <th></th>\n",
       "      <th></th>\n",
       "      <th></th>\n",
       "      <th></th>\n",
       "      <th></th>\n",
       "      <th></th>\n",
       "      <th></th>\n",
       "      <th></th>\n",
       "      <th></th>\n",
       "      <th></th>\n",
       "      <th></th>\n",
       "      <th></th>\n",
       "    </tr>\n",
       "  </thead>\n",
       "  <tbody>\n",
       "    <tr>\n",
       "      <th>016</th>\n",
       "      <td>016</td>\n",
       "      <td>51016</td>\n",
       "      <td>State Senate District 16</td>\n",
       "      <td>184330</td>\n",
       "      <td>16633</td>\n",
       "      <td>140752</td>\n",
       "      <td>11402</td>\n",
       "      <td>64555</td>\n",
       "      <td>103439</td>\n",
       "      <td>1232</td>\n",
       "      <td>...</td>\n",
       "      <td>192</td>\n",
       "      <td>7047</td>\n",
       "      <td>996</td>\n",
       "      <td>4653</td>\n",
       "      <td>1367</td>\n",
       "      <td>10613</td>\n",
       "      <td>3197</td>\n",
       "      <td>834</td>\n",
       "      <td>7371</td>\n",
       "      <td>POLYGON ((-77.28244 37.35197, -77.28233 37.351...</td>\n",
       "    </tr>\n",
       "    <tr>\n",
       "      <th>019</th>\n",
       "      <td>019</td>\n",
       "      <td>51019</td>\n",
       "      <td>State Senate District 19</td>\n",
       "      <td>186272</td>\n",
       "      <td>4225</td>\n",
       "      <td>146682</td>\n",
       "      <td>2616</td>\n",
       "      <td>136581</td>\n",
       "      <td>44894</td>\n",
       "      <td>938</td>\n",
       "      <td>...</td>\n",
       "      <td>47</td>\n",
       "      <td>1410</td>\n",
       "      <td>245</td>\n",
       "      <td>1798</td>\n",
       "      <td>198</td>\n",
       "      <td>2229</td>\n",
       "      <td>1120</td>\n",
       "      <td>127</td>\n",
       "      <td>1369</td>\n",
       "      <td>POLYGON ((-80.12812 37.12291, -80.12740 37.124...</td>\n",
       "    </tr>\n",
       "    <tr>\n",
       "      <th>015</th>\n",
       "      <td>015</td>\n",
       "      <td>51015</td>\n",
       "      <td>State Senate District 15</td>\n",
       "      <td>191067</td>\n",
       "      <td>4031</td>\n",
       "      <td>151532</td>\n",
       "      <td>2692</td>\n",
       "      <td>126671</td>\n",
       "      <td>59711</td>\n",
       "      <td>1108</td>\n",
       "      <td>...</td>\n",
       "      <td>58</td>\n",
       "      <td>1112</td>\n",
       "      <td>389</td>\n",
       "      <td>1896</td>\n",
       "      <td>440</td>\n",
       "      <td>1695</td>\n",
       "      <td>1309</td>\n",
       "      <td>271</td>\n",
       "      <td>1112</td>\n",
       "      <td>POLYGON ((-79.25317 37.73640, -79.25319 37.736...</td>\n",
       "    </tr>\n",
       "    <tr>\n",
       "      <th>021</th>\n",
       "      <td>021</td>\n",
       "      <td>51021</td>\n",
       "      <td>State Senate District 21</td>\n",
       "      <td>188365</td>\n",
       "      <td>7541</td>\n",
       "      <td>153372</td>\n",
       "      <td>5305</td>\n",
       "      <td>142582</td>\n",
       "      <td>32795</td>\n",
       "      <td>1004</td>\n",
       "      <td>...</td>\n",
       "      <td>104</td>\n",
       "      <td>2204</td>\n",
       "      <td>567</td>\n",
       "      <td>3711</td>\n",
       "      <td>513</td>\n",
       "      <td>3317</td>\n",
       "      <td>2704</td>\n",
       "      <td>301</td>\n",
       "      <td>2300</td>\n",
       "      <td>POLYGON ((-79.96950 37.33595, -79.96946 37.335...</td>\n",
       "    </tr>\n",
       "    <tr>\n",
       "      <th>025</th>\n",
       "      <td>025</td>\n",
       "      <td>51025</td>\n",
       "      <td>State Senate District 25</td>\n",
       "      <td>194804</td>\n",
       "      <td>8468</td>\n",
       "      <td>157221</td>\n",
       "      <td>5957</td>\n",
       "      <td>156694</td>\n",
       "      <td>23729</td>\n",
       "      <td>1285</td>\n",
       "      <td>...</td>\n",
       "      <td>109</td>\n",
       "      <td>2564</td>\n",
       "      <td>509</td>\n",
       "      <td>4268</td>\n",
       "      <td>348</td>\n",
       "      <td>3852</td>\n",
       "      <td>3104</td>\n",
       "      <td>213</td>\n",
       "      <td>2640</td>\n",
       "      <td>POLYGON ((-78.89970 37.94871, -78.89954 37.948...</td>\n",
       "    </tr>\n",
       "  </tbody>\n",
       "</table>\n",
       "<p>5 rows × 28 columns</p>\n",
       "</div>"
      ],
      "text/plain": [
       "         SLDUST10 GEOID10                NAMELSAD10  TAPERSONS  TAHISPANIC  \\\n",
       "SLDUST10                                                                     \n",
       "016           016   51016  State Senate District 16     184330       16633   \n",
       "019           019   51019  State Senate District 19     186272        4225   \n",
       "015           015   51015  State Senate District 15     191067        4031   \n",
       "021           021   51021  State Senate District 21     188365        7541   \n",
       "025           025   51025  State Senate District 25     194804        8468   \n",
       "\n",
       "          VAPERSONS  VAHISPANIC   White   Black  AIAN  ...  VAPHawPI  \\\n",
       "SLDUST10                                               ...             \n",
       "016          140752       11402   64555  103439  1232  ...       192   \n",
       "019          146682        2616  136581   44894   938  ...        47   \n",
       "015          151532        2692  126671   59711  1108  ...        58   \n",
       "021          153372        5305  142582   32795  1004  ...       104   \n",
       "025          157221        5957  156694   23729  1285  ...       109   \n",
       "\n",
       "          VAPOther  VAPMulti  HspWhite  HspBlack  HspOther  VAPHispWh  \\\n",
       "SLDUST10                                                                \n",
       "016           7047       996      4653      1367     10613       3197   \n",
       "019           1410       245      1798       198      2229       1120   \n",
       "015           1112       389      1896       440      1695       1309   \n",
       "021           2204       567      3711       513      3317       2704   \n",
       "025           2564       509      4268       348      3852       3104   \n",
       "\n",
       "          VAPHispBl  VAPHispOt  \\\n",
       "SLDUST10                         \n",
       "016             834       7371   \n",
       "019             127       1369   \n",
       "015             271       1112   \n",
       "021             301       2300   \n",
       "025             213       2640   \n",
       "\n",
       "                                                   geometry  \n",
       "SLDUST10                                                     \n",
       "016       POLYGON ((-77.28244 37.35197, -77.28233 37.351...  \n",
       "019       POLYGON ((-80.12812 37.12291, -80.12740 37.124...  \n",
       "015       POLYGON ((-79.25317 37.73640, -79.25319 37.736...  \n",
       "021       POLYGON ((-79.96950 37.33595, -79.96946 37.335...  \n",
       "025       POLYGON ((-78.89970 37.94871, -78.89954 37.948...  \n",
       "\n",
       "[5 rows x 28 columns]"
      ]
     },
     "execution_count": 70,
     "metadata": {},
     "output_type": "execute_result"
    }
   ],
   "source": [
    "## Assign precincts to state senate districts\n",
    "\n",
    "#state_senate = gp.read_file('./raw-from-source/senate_districts/StateSenate.shp')\n",
    "#state_senate = state_senate.to_crs(proj)\n",
    "#state_senate['SLDUST10'].astype(int)\n",
    "#state_senate = state_senate.set_index('SLDUST10', drop = False)\n",
    "#state_senate.head()"
   ]
  },
  {
   "cell_type": "code",
   "execution_count": 71,
   "metadata": {},
   "outputs": [],
   "source": [
    "#state_senate[\"geometry\"] = state_senate.buffer(0)"
   ]
  },
  {
   "cell_type": "code",
   "execution_count": 72,
   "metadata": {},
   "outputs": [
    {
     "name": "stderr",
     "output_type": "stream",
     "text": [
      "/Users/spencernelson/opt/anaconda3/lib/python3.7/site-packages/maup/intersections.py:42: UserWarning: Geometry is in a geographic CRS. Results from 'area' are likely incorrect. Use 'GeoSeries.to_crs()' to re-project geometries to a projected CRS before this operation.\n",
      "\n",
      "  geometries = geometries[geometries.area > area_cutoff]\n",
      "/Users/spencernelson/opt/anaconda3/lib/python3.7/site-packages/maup/assign.py:26: UserWarning: Geometry is in a geographic CRS. Results from 'area' are likely incorrect. Use 'GeoSeries.to_crs()' to re-project geometries to a projected CRS before this operation.\n",
      "\n",
      "  return assign_to_max(intersections(sources, targets, area_cutoff=0).area)\n"
     ]
    }
   ],
   "source": [
    "#assignments = maup.assign(precincts, state_senate)"
   ]
  },
  {
   "cell_type": "code",
   "execution_count": 74,
   "metadata": {},
   "outputs": [
    {
     "name": "stdout",
     "output_type": "stream",
     "text": [
      "0       006\n",
      "1       006\n",
      "2       006\n",
      "3       006\n",
      "4       005\n",
      "       ... \n",
      "2434    001\n",
      "2435    003\n",
      "2436    003\n",
      "2437    003\n",
      "2438    003\n",
      "Length: 2439, dtype: object\n"
     ]
    }
   ],
   "source": [
    "#print(assignments)"
   ]
  },
  {
   "cell_type": "code",
   "execution_count": 75,
   "metadata": {},
   "outputs": [
    {
     "name": "stdout",
     "output_type": "stream",
     "text": [
      "040\n"
     ]
    }
   ],
   "source": [
    "# There is no '0' district, need to add 1 to IDs\n",
    "\n",
    "#assignments += 1\n",
    "#print(assignments.max())"
   ]
  },
  {
   "cell_type": "code",
   "execution_count": 76,
   "metadata": {},
   "outputs": [],
   "source": [
    "#precincts[\"STATE_SENATE\"] = assignments"
   ]
  },
  {
   "cell_type": "code",
   "execution_count": 77,
   "metadata": {},
   "outputs": [],
   "source": [
    "#precincts.STATE_SENATE.astype(int)\n",
    "#precincts[\"STATE_SENATE\"] = assignments"
   ]
  },
  {
   "cell_type": "code",
   "execution_count": 78,
   "metadata": {},
   "outputs": [
    {
     "data": {
      "text/html": [
       "<div>\n",
       "<style scoped>\n",
       "    .dataframe tbody tr th:only-of-type {\n",
       "        vertical-align: middle;\n",
       "    }\n",
       "\n",
       "    .dataframe tbody tr th {\n",
       "        vertical-align: top;\n",
       "    }\n",
       "\n",
       "    .dataframe thead th {\n",
       "        text-align: right;\n",
       "    }\n",
       "</style>\n",
       "<table border=\"1\" class=\"dataframe\">\n",
       "  <thead>\n",
       "    <tr style=\"text-align: right;\">\n",
       "      <th></th>\n",
       "      <th>locality</th>\n",
       "      <th>loc_prec</th>\n",
       "      <th>district</th>\n",
       "      <th>HD</th>\n",
       "      <th>Precinct</th>\n",
       "      <th>G18DHOR</th>\n",
       "      <th>G18DSEN</th>\n",
       "      <th>G18OHOR</th>\n",
       "      <th>G18OSEN</th>\n",
       "      <th>G18RHOR</th>\n",
       "      <th>...</th>\n",
       "      <th>BVAP</th>\n",
       "      <th>AMINVAP</th>\n",
       "      <th>ASIANVAP</th>\n",
       "      <th>NHPIVAP</th>\n",
       "      <th>OTHERVAP</th>\n",
       "      <th>2MOREVAP</th>\n",
       "      <th>CD_DIST</th>\n",
       "      <th>HD_DIST11</th>\n",
       "      <th>HD_DIST19</th>\n",
       "      <th>STATE_SENATE</th>\n",
       "    </tr>\n",
       "  </thead>\n",
       "  <tbody>\n",
       "    <tr>\n",
       "      <th>0</th>\n",
       "      <td>Norfolk</td>\n",
       "      <td>Norfolk Titustown</td>\n",
       "      <td>Congressional District 2</td>\n",
       "      <td>79</td>\n",
       "      <td>Titustown</td>\n",
       "      <td>666</td>\n",
       "      <td>680</td>\n",
       "      <td>0</td>\n",
       "      <td>12</td>\n",
       "      <td>87</td>\n",
       "      <td>...</td>\n",
       "      <td>2194</td>\n",
       "      <td>48</td>\n",
       "      <td>163</td>\n",
       "      <td>18</td>\n",
       "      <td>7</td>\n",
       "      <td>138</td>\n",
       "      <td>2.0</td>\n",
       "      <td>79</td>\n",
       "      <td>79</td>\n",
       "      <td>006</td>\n",
       "    </tr>\n",
       "    <tr>\n",
       "      <th>1</th>\n",
       "      <td>Norfolk</td>\n",
       "      <td>Norfolk Second Presbyterian</td>\n",
       "      <td>Congressional District 2</td>\n",
       "      <td>79</td>\n",
       "      <td>Second Presbyterian</td>\n",
       "      <td>1138</td>\n",
       "      <td>1165</td>\n",
       "      <td>0</td>\n",
       "      <td>43</td>\n",
       "      <td>620</td>\n",
       "      <td>...</td>\n",
       "      <td>1604</td>\n",
       "      <td>38</td>\n",
       "      <td>452</td>\n",
       "      <td>18</td>\n",
       "      <td>15</td>\n",
       "      <td>156</td>\n",
       "      <td>2.0</td>\n",
       "      <td>79</td>\n",
       "      <td>79</td>\n",
       "      <td>006</td>\n",
       "    </tr>\n",
       "    <tr>\n",
       "      <th>2</th>\n",
       "      <td>Norfolk</td>\n",
       "      <td>Norfolk Crossroads</td>\n",
       "      <td>Congressional District 2</td>\n",
       "      <td>100</td>\n",
       "      <td>Crossroads</td>\n",
       "      <td>894</td>\n",
       "      <td>893</td>\n",
       "      <td>0</td>\n",
       "      <td>48</td>\n",
       "      <td>657</td>\n",
       "      <td>...</td>\n",
       "      <td>816</td>\n",
       "      <td>14</td>\n",
       "      <td>112</td>\n",
       "      <td>2</td>\n",
       "      <td>2</td>\n",
       "      <td>78</td>\n",
       "      <td>2.0</td>\n",
       "      <td>100</td>\n",
       "      <td>100</td>\n",
       "      <td>006</td>\n",
       "    </tr>\n",
       "    <tr>\n",
       "      <th>3</th>\n",
       "      <td>Norfolk</td>\n",
       "      <td>Norfolk Northside</td>\n",
       "      <td>Congressional District 2</td>\n",
       "      <td>100</td>\n",
       "      <td>Northside</td>\n",
       "      <td>743</td>\n",
       "      <td>763</td>\n",
       "      <td>0</td>\n",
       "      <td>27</td>\n",
       "      <td>564</td>\n",
       "      <td>...</td>\n",
       "      <td>429</td>\n",
       "      <td>13</td>\n",
       "      <td>160</td>\n",
       "      <td>13</td>\n",
       "      <td>5</td>\n",
       "      <td>56</td>\n",
       "      <td>2.0</td>\n",
       "      <td>100</td>\n",
       "      <td>100</td>\n",
       "      <td>006</td>\n",
       "    </tr>\n",
       "    <tr>\n",
       "      <th>4</th>\n",
       "      <td>Norfolk</td>\n",
       "      <td>Norfolk Ballentine</td>\n",
       "      <td>Congressional District 3</td>\n",
       "      <td>89</td>\n",
       "      <td>Ballentine</td>\n",
       "      <td>1173</td>\n",
       "      <td>1154</td>\n",
       "      <td>0</td>\n",
       "      <td>23</td>\n",
       "      <td>0</td>\n",
       "      <td>...</td>\n",
       "      <td>2543</td>\n",
       "      <td>14</td>\n",
       "      <td>20</td>\n",
       "      <td>2</td>\n",
       "      <td>2</td>\n",
       "      <td>63</td>\n",
       "      <td>3.0</td>\n",
       "      <td>89</td>\n",
       "      <td>89</td>\n",
       "      <td>005</td>\n",
       "    </tr>\n",
       "  </tbody>\n",
       "</table>\n",
       "<p>5 rows × 52 columns</p>\n",
       "</div>"
      ],
      "text/plain": [
       "  locality                     loc_prec                  district   HD  \\\n",
       "0  Norfolk            Norfolk Titustown  Congressional District 2   79   \n",
       "1  Norfolk  Norfolk Second Presbyterian  Congressional District 2   79   \n",
       "2  Norfolk           Norfolk Crossroads  Congressional District 2  100   \n",
       "3  Norfolk            Norfolk Northside  Congressional District 2  100   \n",
       "4  Norfolk           Norfolk Ballentine  Congressional District 3   89   \n",
       "\n",
       "              Precinct  G18DHOR  G18DSEN  G18OHOR  G18OSEN  G18RHOR  ...  \\\n",
       "0            Titustown      666      680        0       12       87  ...   \n",
       "1  Second Presbyterian     1138     1165        0       43      620  ...   \n",
       "2           Crossroads      894      893        0       48      657  ...   \n",
       "3            Northside      743      763        0       27      564  ...   \n",
       "4           Ballentine     1173     1154        0       23        0  ...   \n",
       "\n",
       "   BVAP  AMINVAP  ASIANVAP  NHPIVAP  OTHERVAP  2MOREVAP  CD_DIST  HD_DIST11  \\\n",
       "0  2194       48       163       18         7       138      2.0         79   \n",
       "1  1604       38       452       18        15       156      2.0         79   \n",
       "2   816       14       112        2         2        78      2.0        100   \n",
       "3   429       13       160       13         5        56      2.0        100   \n",
       "4  2543       14        20        2         2        63      3.0         89   \n",
       "\n",
       "   HD_DIST19  STATE_SENATE  \n",
       "0         79           006  \n",
       "1         79           006  \n",
       "2        100           006  \n",
       "3        100           006  \n",
       "4         89           005  \n",
       "\n",
       "[5 rows x 52 columns]"
      ]
     },
     "execution_count": 78,
     "metadata": {},
     "output_type": "execute_result"
    }
   ],
   "source": [
    "#precincts.head()"
   ]
  },
  {
   "cell_type": "code",
   "execution_count": 98,
   "metadata": {},
   "outputs": [
    {
     "data": {
      "text/plain": [
       "11"
      ]
     },
     "execution_count": 98,
     "metadata": {},
     "output_type": "execute_result"
    }
   ],
   "source": [
    "####Assing 2012 congressional districts\n",
    "#load in national congressional districts, 2012\n",
    "#CD_2012 = gp.read_file(\"./raw-from-source/tl_2012_us_cd112/tl_2012_us_cd112.shp\")\n",
    "#va_cd_2012 = CD_2012.loc[CD_2012['STATEFP']=='51']\n",
    "#va_cd_2012.shape[0]"
   ]
  },
  {
   "cell_type": "code",
   "execution_count": 99,
   "metadata": {},
   "outputs": [
    {
     "data": {
      "text/plain": [
       "Int64Index([190, 191, 192, 193, 194, 195, 196, 197, 198, 199, 200], dtype='int64')"
      ]
     },
     "execution_count": 99,
     "metadata": {},
     "output_type": "execute_result"
    }
   ],
   "source": [
    "#va_cd_2012.index\n"
   ]
  },
  {
   "cell_type": "code",
   "execution_count": 100,
   "metadata": {},
   "outputs": [
    {
     "data": {
      "text/html": [
       "<div>\n",
       "<style scoped>\n",
       "    .dataframe tbody tr th:only-of-type {\n",
       "        vertical-align: middle;\n",
       "    }\n",
       "\n",
       "    .dataframe tbody tr th {\n",
       "        vertical-align: top;\n",
       "    }\n",
       "\n",
       "    .dataframe thead th {\n",
       "        text-align: right;\n",
       "    }\n",
       "</style>\n",
       "<table border=\"1\" class=\"dataframe\">\n",
       "  <thead>\n",
       "    <tr style=\"text-align: right;\">\n",
       "      <th></th>\n",
       "      <th>STATEFP</th>\n",
       "      <th>CD112FP</th>\n",
       "      <th>GEOID</th>\n",
       "      <th>NAMELSAD</th>\n",
       "      <th>LSAD</th>\n",
       "      <th>CDSESSN</th>\n",
       "      <th>MTFCC</th>\n",
       "      <th>FUNCSTAT</th>\n",
       "      <th>ALAND</th>\n",
       "      <th>AWATER</th>\n",
       "      <th>INTPTLAT</th>\n",
       "      <th>INTPTLON</th>\n",
       "      <th>geometry</th>\n",
       "    </tr>\n",
       "  </thead>\n",
       "  <tbody>\n",
       "    <tr>\n",
       "      <th>190</th>\n",
       "      <td>51</td>\n",
       "      <td>04</td>\n",
       "      <td>5104</td>\n",
       "      <td>Congressional District 4</td>\n",
       "      <td>C2</td>\n",
       "      <td>112</td>\n",
       "      <td>G5200</td>\n",
       "      <td>N</td>\n",
       "      <td>11607423882</td>\n",
       "      <td>241173052</td>\n",
       "      <td>+36.9759367</td>\n",
       "      <td>-077.3244622</td>\n",
       "      <td>POLYGON ((-78.24073 37.37634, -78.24067 37.376...</td>\n",
       "    </tr>\n",
       "    <tr>\n",
       "      <th>191</th>\n",
       "      <td>51</td>\n",
       "      <td>09</td>\n",
       "      <td>5109</td>\n",
       "      <td>Congressional District 9</td>\n",
       "      <td>C2</td>\n",
       "      <td>112</td>\n",
       "      <td>G5200</td>\n",
       "      <td>N</td>\n",
       "      <td>22743474464</td>\n",
       "      <td>147384604</td>\n",
       "      <td>+36.9833556</td>\n",
       "      <td>-081.3506607</td>\n",
       "      <td>POLYGON ((-83.67529 36.60115, -83.67520 36.601...</td>\n",
       "    </tr>\n",
       "    <tr>\n",
       "      <th>192</th>\n",
       "      <td>51</td>\n",
       "      <td>07</td>\n",
       "      <td>5107</td>\n",
       "      <td>Congressional District 7</td>\n",
       "      <td>C2</td>\n",
       "      <td>112</td>\n",
       "      <td>G5200</td>\n",
       "      <td>N</td>\n",
       "      <td>9064623437</td>\n",
       "      <td>147683628</td>\n",
       "      <td>+38.1334059</td>\n",
       "      <td>-077.9278401</td>\n",
       "      <td>POLYGON ((-78.69114 38.51121, -78.69112 38.511...</td>\n",
       "    </tr>\n",
       "    <tr>\n",
       "      <th>193</th>\n",
       "      <td>51</td>\n",
       "      <td>06</td>\n",
       "      <td>5106</td>\n",
       "      <td>Congressional District 6</td>\n",
       "      <td>C2</td>\n",
       "      <td>112</td>\n",
       "      <td>G5200</td>\n",
       "      <td>N</td>\n",
       "      <td>14574207637</td>\n",
       "      <td>93886506</td>\n",
       "      <td>+38.0662629</td>\n",
       "      <td>-079.3173465</td>\n",
       "      <td>POLYGON ((-80.22950 37.79351, -80.22923 37.794...</td>\n",
       "    </tr>\n",
       "    <tr>\n",
       "      <th>194</th>\n",
       "      <td>51</td>\n",
       "      <td>05</td>\n",
       "      <td>5105</td>\n",
       "      <td>Congressional District 5</td>\n",
       "      <td>C2</td>\n",
       "      <td>112</td>\n",
       "      <td>G5200</td>\n",
       "      <td>N</td>\n",
       "      <td>23069645708</td>\n",
       "      <td>379395853</td>\n",
       "      <td>+37.1861145</td>\n",
       "      <td>-078.8504540</td>\n",
       "      <td>POLYGON ((-80.23529 36.87226, -80.23199 36.875...</td>\n",
       "    </tr>\n",
       "  </tbody>\n",
       "</table>\n",
       "</div>"
      ],
      "text/plain": [
       "    STATEFP CD112FP GEOID                  NAMELSAD LSAD CDSESSN  MTFCC  \\\n",
       "190      51      04  5104  Congressional District 4   C2     112  G5200   \n",
       "191      51      09  5109  Congressional District 9   C2     112  G5200   \n",
       "192      51      07  5107  Congressional District 7   C2     112  G5200   \n",
       "193      51      06  5106  Congressional District 6   C2     112  G5200   \n",
       "194      51      05  5105  Congressional District 5   C2     112  G5200   \n",
       "\n",
       "    FUNCSTAT        ALAND     AWATER     INTPTLAT      INTPTLON  \\\n",
       "190        N  11607423882  241173052  +36.9759367  -077.3244622   \n",
       "191        N  22743474464  147384604  +36.9833556  -081.3506607   \n",
       "192        N   9064623437  147683628  +38.1334059  -077.9278401   \n",
       "193        N  14574207637   93886506  +38.0662629  -079.3173465   \n",
       "194        N  23069645708  379395853  +37.1861145  -078.8504540   \n",
       "\n",
       "                                              geometry  \n",
       "190  POLYGON ((-78.24073 37.37634, -78.24067 37.376...  \n",
       "191  POLYGON ((-83.67529 36.60115, -83.67520 36.601...  \n",
       "192  POLYGON ((-78.69114 38.51121, -78.69112 38.511...  \n",
       "193  POLYGON ((-80.22950 37.79351, -80.22923 37.794...  \n",
       "194  POLYGON ((-80.23529 36.87226, -80.23199 36.875...  "
      ]
     },
     "execution_count": 100,
     "metadata": {},
     "output_type": "execute_result"
    }
   ],
   "source": [
    "#va_cd_2012.CD112FP.astype('int')\n",
    "#va_cd_2012.set_index('CD112FP')\n",
    "#va_cd_2012.head()"
   ]
  },
  {
   "cell_type": "code",
   "execution_count": 101,
   "metadata": {},
   "outputs": [
    {
     "name": "stdout",
     "output_type": "stream",
     "text": [
      "        STATEFP CD112FP GEOID                   NAMELSAD LSAD CDSESSN  MTFCC  \\\n",
      "CD112FP                                                                        \n",
      "04           51      04  5104   Congressional District 4   C2     112  G5200   \n",
      "09           51      09  5109   Congressional District 9   C2     112  G5200   \n",
      "07           51      07  5107   Congressional District 7   C2     112  G5200   \n",
      "06           51      06  5106   Congressional District 6   C2     112  G5200   \n",
      "05           51      05  5105   Congressional District 5   C2     112  G5200   \n",
      "01           51      01  5101   Congressional District 1   C2     112  G5200   \n",
      "10           51      10  5110  Congressional District 10   C2     112  G5200   \n",
      "11           51      11  5111  Congressional District 11   C2     112  G5200   \n",
      "02           51      02  5102   Congressional District 2   C2     112  G5200   \n",
      "03           51      03  5103   Congressional District 3   C2     112  G5200   \n",
      "08           51      08  5108   Congressional District 8   C2     112  G5200   \n",
      "\n",
      "        FUNCSTAT        ALAND      AWATER     INTPTLAT      INTPTLON  \\\n",
      "CD112FP                                                                \n",
      "04             N  11607423882   241173052  +36.9759367  -077.3244622   \n",
      "09             N  22743474464   147384604  +36.9833556  -081.3506607   \n",
      "07             N   9064623437   147683628  +38.1334059  -077.9278401   \n",
      "06             N  14574207637    93886506  +38.0662629  -079.3173465   \n",
      "05             N  23069645708   379395853  +37.1861145  -078.8504540   \n",
      "01             N   9745222649  2198698153  +37.8740925  -076.8953559   \n",
      "10             N   4784806546    44259138  +39.0304886  -077.8999362   \n",
      "11             N    996058481    50038691  +38.7459002  -077.3685466   \n",
      "02             N   2489040513  4702576330  +37.4077643  -075.8875288   \n",
      "03             N   2887939134   494866044  +37.2727491  -076.9688643   \n",
      "08             N    317324015     6822560  +38.8559474  -077.2140496   \n",
      "\n",
      "                                                  geometry  \n",
      "CD112FP                                                     \n",
      "04       POLYGON ((-78.24073 37.37634, -78.24067 37.376...  \n",
      "09       POLYGON ((-83.67529 36.60115, -83.67520 36.601...  \n",
      "07       POLYGON ((-78.69114 38.51121, -78.69112 38.511...  \n",
      "06       POLYGON ((-80.22950 37.79351, -80.22923 37.794...  \n",
      "05       POLYGON ((-80.23529 36.87226, -80.23199 36.875...  \n",
      "01       POLYGON ((-78.02797 38.75935, -78.02698 38.759...  \n",
      "10       POLYGON ((-78.54287 39.05762, -78.54140 39.059...  \n",
      "11       POLYGON ((-77.70990 38.84347, -77.70965 38.843...  \n",
      "02       POLYGON ((-76.38266 37.10513, -76.38260 37.105...  \n",
      "03       POLYGON ((-77.51494 37.50908, -77.51485 37.509...  \n",
      "08       POLYGON ((-77.39295 38.94587, -77.39274 38.946...  \n"
     ]
    }
   ],
   "source": [
    "#va_cd_2012 = va_cd_2012.set_index('CD112FP', drop=False)\n",
    "#print(va_cd_2012)"
   ]
  },
  {
   "cell_type": "code",
   "execution_count": 102,
   "metadata": {},
   "outputs": [
    {
     "name": "stderr",
     "output_type": "stream",
     "text": [
      "/Users/spencernelson/opt/anaconda3/lib/python3.7/site-packages/maup/intersections.py:42: UserWarning: Geometry is in a geographic CRS. Results from 'area' are likely incorrect. Use 'GeoSeries.to_crs()' to re-project geometries to a projected CRS before this operation.\n",
      "\n",
      "  geometries = geometries[geometries.area > area_cutoff]\n",
      "/Users/spencernelson/opt/anaconda3/lib/python3.7/site-packages/maup/assign.py:26: UserWarning: Geometry is in a geographic CRS. Results from 'area' are likely incorrect. Use 'GeoSeries.to_crs()' to re-project geometries to a projected CRS before this operation.\n",
      "\n",
      "  return assign_to_max(intersections(sources, targets, area_cutoff=0).area)\n"
     ]
    },
    {
     "data": {
      "text/plain": [
       "'11'"
      ]
     },
     "execution_count": 102,
     "metadata": {},
     "output_type": "execute_result"
    }
   ],
   "source": [
    "#va_cd_2012 = va_cd_2012.to_crs(proj)\n",
    "#va_cd_2012[\"geometry\"] = va_cd_2012.buffer(0)\n",
    "#assignments = maup.assign(precincts, va_cd_2012)\n",
    "#assignments.max()\n",
    "# There is no '0' district, need to add 1 to IDs"
   ]
  },
  {
   "cell_type": "code",
   "execution_count": 103,
   "metadata": {},
   "outputs": [
    {
     "data": {
      "text/html": [
       "<div>\n",
       "<style scoped>\n",
       "    .dataframe tbody tr th:only-of-type {\n",
       "        vertical-align: middle;\n",
       "    }\n",
       "\n",
       "    .dataframe tbody tr th {\n",
       "        vertical-align: top;\n",
       "    }\n",
       "\n",
       "    .dataframe thead th {\n",
       "        text-align: right;\n",
       "    }\n",
       "</style>\n",
       "<table border=\"1\" class=\"dataframe\">\n",
       "  <thead>\n",
       "    <tr style=\"text-align: right;\">\n",
       "      <th></th>\n",
       "      <th>locality</th>\n",
       "      <th>loc_prec</th>\n",
       "      <th>district</th>\n",
       "      <th>HD</th>\n",
       "      <th>Precinct</th>\n",
       "      <th>G18DHOR</th>\n",
       "      <th>G18DSEN</th>\n",
       "      <th>G18OHOR</th>\n",
       "      <th>G18OSEN</th>\n",
       "      <th>G18RHOR</th>\n",
       "      <th>...</th>\n",
       "      <th>AMINVAP</th>\n",
       "      <th>ASIANVAP</th>\n",
       "      <th>NHPIVAP</th>\n",
       "      <th>OTHERVAP</th>\n",
       "      <th>2MOREVAP</th>\n",
       "      <th>CD_DIST</th>\n",
       "      <th>HD_DIST11</th>\n",
       "      <th>HD_DIST19</th>\n",
       "      <th>STATE_SENATE</th>\n",
       "      <th>CD_2012</th>\n",
       "    </tr>\n",
       "  </thead>\n",
       "  <tbody>\n",
       "    <tr>\n",
       "      <th>0</th>\n",
       "      <td>Norfolk</td>\n",
       "      <td>Norfolk Titustown</td>\n",
       "      <td>Congressional District 2</td>\n",
       "      <td>79</td>\n",
       "      <td>Titustown</td>\n",
       "      <td>666</td>\n",
       "      <td>680</td>\n",
       "      <td>0</td>\n",
       "      <td>12</td>\n",
       "      <td>87</td>\n",
       "      <td>...</td>\n",
       "      <td>48</td>\n",
       "      <td>163</td>\n",
       "      <td>18</td>\n",
       "      <td>7</td>\n",
       "      <td>138</td>\n",
       "      <td>2.0</td>\n",
       "      <td>79</td>\n",
       "      <td>79</td>\n",
       "      <td>006</td>\n",
       "      <td>2</td>\n",
       "    </tr>\n",
       "    <tr>\n",
       "      <th>1</th>\n",
       "      <td>Norfolk</td>\n",
       "      <td>Norfolk Second Presbyterian</td>\n",
       "      <td>Congressional District 2</td>\n",
       "      <td>79</td>\n",
       "      <td>Second Presbyterian</td>\n",
       "      <td>1138</td>\n",
       "      <td>1165</td>\n",
       "      <td>0</td>\n",
       "      <td>43</td>\n",
       "      <td>620</td>\n",
       "      <td>...</td>\n",
       "      <td>38</td>\n",
       "      <td>452</td>\n",
       "      <td>18</td>\n",
       "      <td>15</td>\n",
       "      <td>156</td>\n",
       "      <td>2.0</td>\n",
       "      <td>79</td>\n",
       "      <td>79</td>\n",
       "      <td>006</td>\n",
       "      <td>2</td>\n",
       "    </tr>\n",
       "    <tr>\n",
       "      <th>2</th>\n",
       "      <td>Norfolk</td>\n",
       "      <td>Norfolk Crossroads</td>\n",
       "      <td>Congressional District 2</td>\n",
       "      <td>100</td>\n",
       "      <td>Crossroads</td>\n",
       "      <td>894</td>\n",
       "      <td>893</td>\n",
       "      <td>0</td>\n",
       "      <td>48</td>\n",
       "      <td>657</td>\n",
       "      <td>...</td>\n",
       "      <td>14</td>\n",
       "      <td>112</td>\n",
       "      <td>2</td>\n",
       "      <td>2</td>\n",
       "      <td>78</td>\n",
       "      <td>2.0</td>\n",
       "      <td>100</td>\n",
       "      <td>100</td>\n",
       "      <td>006</td>\n",
       "      <td>2</td>\n",
       "    </tr>\n",
       "    <tr>\n",
       "      <th>3</th>\n",
       "      <td>Norfolk</td>\n",
       "      <td>Norfolk Northside</td>\n",
       "      <td>Congressional District 2</td>\n",
       "      <td>100</td>\n",
       "      <td>Northside</td>\n",
       "      <td>743</td>\n",
       "      <td>763</td>\n",
       "      <td>0</td>\n",
       "      <td>27</td>\n",
       "      <td>564</td>\n",
       "      <td>...</td>\n",
       "      <td>13</td>\n",
       "      <td>160</td>\n",
       "      <td>13</td>\n",
       "      <td>5</td>\n",
       "      <td>56</td>\n",
       "      <td>2.0</td>\n",
       "      <td>100</td>\n",
       "      <td>100</td>\n",
       "      <td>006</td>\n",
       "      <td>2</td>\n",
       "    </tr>\n",
       "    <tr>\n",
       "      <th>4</th>\n",
       "      <td>Norfolk</td>\n",
       "      <td>Norfolk Ballentine</td>\n",
       "      <td>Congressional District 3</td>\n",
       "      <td>89</td>\n",
       "      <td>Ballentine</td>\n",
       "      <td>1173</td>\n",
       "      <td>1154</td>\n",
       "      <td>0</td>\n",
       "      <td>23</td>\n",
       "      <td>0</td>\n",
       "      <td>...</td>\n",
       "      <td>14</td>\n",
       "      <td>20</td>\n",
       "      <td>2</td>\n",
       "      <td>2</td>\n",
       "      <td>63</td>\n",
       "      <td>3.0</td>\n",
       "      <td>89</td>\n",
       "      <td>89</td>\n",
       "      <td>005</td>\n",
       "      <td>3</td>\n",
       "    </tr>\n",
       "  </tbody>\n",
       "</table>\n",
       "<p>5 rows × 53 columns</p>\n",
       "</div>"
      ],
      "text/plain": [
       "  locality                     loc_prec                  district   HD  \\\n",
       "0  Norfolk            Norfolk Titustown  Congressional District 2   79   \n",
       "1  Norfolk  Norfolk Second Presbyterian  Congressional District 2   79   \n",
       "2  Norfolk           Norfolk Crossroads  Congressional District 2  100   \n",
       "3  Norfolk            Norfolk Northside  Congressional District 2  100   \n",
       "4  Norfolk           Norfolk Ballentine  Congressional District 3   89   \n",
       "\n",
       "              Precinct  G18DHOR  G18DSEN  G18OHOR  G18OSEN  G18RHOR  ...  \\\n",
       "0            Titustown      666      680        0       12       87  ...   \n",
       "1  Second Presbyterian     1138     1165        0       43      620  ...   \n",
       "2           Crossroads      894      893        0       48      657  ...   \n",
       "3            Northside      743      763        0       27      564  ...   \n",
       "4           Ballentine     1173     1154        0       23        0  ...   \n",
       "\n",
       "   AMINVAP  ASIANVAP  NHPIVAP  OTHERVAP  2MOREVAP  CD_DIST  HD_DIST11  \\\n",
       "0       48       163       18         7       138      2.0         79   \n",
       "1       38       452       18        15       156      2.0         79   \n",
       "2       14       112        2         2        78      2.0        100   \n",
       "3       13       160       13         5        56      2.0        100   \n",
       "4       14        20        2         2        63      3.0         89   \n",
       "\n",
       "   HD_DIST19  STATE_SENATE  CD_2012  \n",
       "0         79           006        2  \n",
       "1         79           006        2  \n",
       "2        100           006        2  \n",
       "3        100           006        2  \n",
       "4         89           005        3  \n",
       "\n",
       "[5 rows x 53 columns]"
      ]
     },
     "execution_count": 103,
     "metadata": {},
     "output_type": "execute_result"
    }
   ],
   "source": [
    "#precincts[\"CD_2012\"] = assignments.astype('int')\n",
    "#precincts.head()"
   ]
  },
  {
   "cell_type": "code",
   "execution_count": 29,
   "metadata": {},
   "outputs": [],
   "source": [
    "## Save shapefile\n",
    "precincts.to_file(\"LA_MGGG_replication-census.shp\")"
   ]
  },
  {
   "cell_type": "markdown",
   "metadata": {},
   "source": [
    "### Load MGGG VA shapefile to compare results"
   ]
  },
  {
   "cell_type": "code",
   "execution_count": 31,
   "metadata": {},
   "outputs": [],
   "source": [
    "final = gp.read_file('./MGGG-la-final/LA_1519/LA_1519.shp')"
   ]
  },
  {
   "cell_type": "code",
   "execution_count": 32,
   "metadata": {},
   "outputs": [],
   "source": [
    "precincts = precincts.rename(columns={\"Precinct\": \"precinct\"})"
   ]
  },
  {
   "cell_type": "code",
   "execution_count": 33,
   "metadata": {},
   "outputs": [
    {
     "name": "stdout",
     "output_type": "stream",
     "text": [
      "Number of different rows:  22\n",
      "Number of different fields:  159\n"
     ]
    }
   ],
   "source": [
    "#Make sure number of precincts is the same between the files\n",
    "final_rows = final.shape[0]\n",
    "precinct_rows = precincts.shape[0]\n",
    "print(\"Number of different rows: \", abs(final_rows-precinct_rows))\n",
    "\n",
    "final_col = final.shape[1]\n",
    "precinct_col = precincts.shape[1]\n",
    "print(\"Number of different fields: \", abs(final_col-precinct_col))"
   ]
  },
  {
   "cell_type": "code",
   "execution_count": 34,
   "metadata": {},
   "outputs": [
    {
     "ename": "KeyError",
     "evalue": "'loc_prec'",
     "output_type": "error",
     "traceback": [
      "\u001b[0;31m---------------------------------------------------------------------------\u001b[0m",
      "\u001b[0;31mKeyError\u001b[0m                                  Traceback (most recent call last)",
      "\u001b[0;32m<ipython-input-34-ef1556c2b4be>\u001b[0m in \u001b[0;36m<module>\u001b[0;34m\u001b[0m\n\u001b[1;32m      1\u001b[0m \u001b[0;31m# Join your final version and the MGGGG final version\u001b[0m\u001b[0;34m\u001b[0m\u001b[0;34m\u001b[0m\u001b[0;34m\u001b[0m\u001b[0m\n\u001b[0;32m----> 2\u001b[0;31m \u001b[0mvalidate\u001b[0m \u001b[0;34m=\u001b[0m \u001b[0mpd\u001b[0m\u001b[0;34m.\u001b[0m\u001b[0mmerge\u001b[0m\u001b[0;34m(\u001b[0m\u001b[0mprecincts\u001b[0m\u001b[0;34m,\u001b[0m \u001b[0mfinal\u001b[0m\u001b[0;34m,\u001b[0m \u001b[0mon\u001b[0m\u001b[0;34m=\u001b[0m\u001b[0;34m[\u001b[0m\u001b[0;34m'loc_prec'\u001b[0m\u001b[0;34m]\u001b[0m\u001b[0;34m,\u001b[0m \u001b[0mhow\u001b[0m\u001b[0;34m=\u001b[0m\u001b[0;34m'left'\u001b[0m\u001b[0;34m)\u001b[0m\u001b[0;34m\u001b[0m\u001b[0;34m\u001b[0m\u001b[0m\n\u001b[0m",
      "\u001b[0;32m~/opt/anaconda3/lib/python3.7/site-packages/pandas/core/reshape/merge.py\u001b[0m in \u001b[0;36mmerge\u001b[0;34m(left, right, how, on, left_on, right_on, left_index, right_index, sort, suffixes, copy, indicator, validate)\u001b[0m\n\u001b[1;32m     85\u001b[0m         \u001b[0mcopy\u001b[0m\u001b[0;34m=\u001b[0m\u001b[0mcopy\u001b[0m\u001b[0;34m,\u001b[0m\u001b[0;34m\u001b[0m\u001b[0;34m\u001b[0m\u001b[0m\n\u001b[1;32m     86\u001b[0m         \u001b[0mindicator\u001b[0m\u001b[0;34m=\u001b[0m\u001b[0mindicator\u001b[0m\u001b[0;34m,\u001b[0m\u001b[0;34m\u001b[0m\u001b[0;34m\u001b[0m\u001b[0m\n\u001b[0;32m---> 87\u001b[0;31m         \u001b[0mvalidate\u001b[0m\u001b[0;34m=\u001b[0m\u001b[0mvalidate\u001b[0m\u001b[0;34m,\u001b[0m\u001b[0;34m\u001b[0m\u001b[0;34m\u001b[0m\u001b[0m\n\u001b[0m\u001b[1;32m     88\u001b[0m     )\n\u001b[1;32m     89\u001b[0m     \u001b[0;32mreturn\u001b[0m \u001b[0mop\u001b[0m\u001b[0;34m.\u001b[0m\u001b[0mget_result\u001b[0m\u001b[0;34m(\u001b[0m\u001b[0;34m)\u001b[0m\u001b[0;34m\u001b[0m\u001b[0;34m\u001b[0m\u001b[0m\n",
      "\u001b[0;32m~/opt/anaconda3/lib/python3.7/site-packages/pandas/core/reshape/merge.py\u001b[0m in \u001b[0;36m__init__\u001b[0;34m(self, left, right, how, on, left_on, right_on, axis, left_index, right_index, sort, suffixes, copy, indicator, validate)\u001b[0m\n\u001b[1;32m    650\u001b[0m             \u001b[0mself\u001b[0m\u001b[0;34m.\u001b[0m\u001b[0mright_join_keys\u001b[0m\u001b[0;34m,\u001b[0m\u001b[0;34m\u001b[0m\u001b[0;34m\u001b[0m\u001b[0m\n\u001b[1;32m    651\u001b[0m             \u001b[0mself\u001b[0m\u001b[0;34m.\u001b[0m\u001b[0mjoin_names\u001b[0m\u001b[0;34m,\u001b[0m\u001b[0;34m\u001b[0m\u001b[0;34m\u001b[0m\u001b[0m\n\u001b[0;32m--> 652\u001b[0;31m         ) = self._get_merge_keys()\n\u001b[0m\u001b[1;32m    653\u001b[0m \u001b[0;34m\u001b[0m\u001b[0m\n\u001b[1;32m    654\u001b[0m         \u001b[0;31m# validate the merge keys dtypes. We may need to coerce\u001b[0m\u001b[0;34m\u001b[0m\u001b[0;34m\u001b[0m\u001b[0;34m\u001b[0m\u001b[0m\n",
      "\u001b[0;32m~/opt/anaconda3/lib/python3.7/site-packages/pandas/core/reshape/merge.py\u001b[0m in \u001b[0;36m_get_merge_keys\u001b[0;34m(self)\u001b[0m\n\u001b[1;32m   1003\u001b[0m                     \u001b[0;32mif\u001b[0m \u001b[0;32mnot\u001b[0m \u001b[0mis_rkey\u001b[0m\u001b[0;34m(\u001b[0m\u001b[0mrk\u001b[0m\u001b[0;34m)\u001b[0m\u001b[0;34m:\u001b[0m\u001b[0;34m\u001b[0m\u001b[0;34m\u001b[0m\u001b[0m\n\u001b[1;32m   1004\u001b[0m                         \u001b[0;32mif\u001b[0m \u001b[0mrk\u001b[0m \u001b[0;32mis\u001b[0m \u001b[0;32mnot\u001b[0m \u001b[0;32mNone\u001b[0m\u001b[0;34m:\u001b[0m\u001b[0;34m\u001b[0m\u001b[0;34m\u001b[0m\u001b[0m\n\u001b[0;32m-> 1005\u001b[0;31m                             \u001b[0mright_keys\u001b[0m\u001b[0;34m.\u001b[0m\u001b[0mappend\u001b[0m\u001b[0;34m(\u001b[0m\u001b[0mright\u001b[0m\u001b[0;34m.\u001b[0m\u001b[0m_get_label_or_level_values\u001b[0m\u001b[0;34m(\u001b[0m\u001b[0mrk\u001b[0m\u001b[0;34m)\u001b[0m\u001b[0;34m)\u001b[0m\u001b[0;34m\u001b[0m\u001b[0;34m\u001b[0m\u001b[0m\n\u001b[0m\u001b[1;32m   1006\u001b[0m                         \u001b[0;32melse\u001b[0m\u001b[0;34m:\u001b[0m\u001b[0;34m\u001b[0m\u001b[0;34m\u001b[0m\u001b[0m\n\u001b[1;32m   1007\u001b[0m                             \u001b[0;31m# work-around for merge_asof(right_index=True)\u001b[0m\u001b[0;34m\u001b[0m\u001b[0;34m\u001b[0m\u001b[0;34m\u001b[0m\u001b[0m\n",
      "\u001b[0;32m~/opt/anaconda3/lib/python3.7/site-packages/pandas/core/generic.py\u001b[0m in \u001b[0;36m_get_label_or_level_values\u001b[0;34m(self, key, axis)\u001b[0m\n\u001b[1;32m   1561\u001b[0m             \u001b[0mvalues\u001b[0m \u001b[0;34m=\u001b[0m \u001b[0mself\u001b[0m\u001b[0;34m.\u001b[0m\u001b[0maxes\u001b[0m\u001b[0;34m[\u001b[0m\u001b[0maxis\u001b[0m\u001b[0;34m]\u001b[0m\u001b[0;34m.\u001b[0m\u001b[0mget_level_values\u001b[0m\u001b[0;34m(\u001b[0m\u001b[0mkey\u001b[0m\u001b[0;34m)\u001b[0m\u001b[0;34m.\u001b[0m\u001b[0m_values\u001b[0m\u001b[0;34m\u001b[0m\u001b[0;34m\u001b[0m\u001b[0m\n\u001b[1;32m   1562\u001b[0m         \u001b[0;32melse\u001b[0m\u001b[0;34m:\u001b[0m\u001b[0;34m\u001b[0m\u001b[0;34m\u001b[0m\u001b[0m\n\u001b[0;32m-> 1563\u001b[0;31m             \u001b[0;32mraise\u001b[0m \u001b[0mKeyError\u001b[0m\u001b[0;34m(\u001b[0m\u001b[0mkey\u001b[0m\u001b[0;34m)\u001b[0m\u001b[0;34m\u001b[0m\u001b[0;34m\u001b[0m\u001b[0m\n\u001b[0m\u001b[1;32m   1564\u001b[0m \u001b[0;34m\u001b[0m\u001b[0m\n\u001b[1;32m   1565\u001b[0m         \u001b[0;31m# Check for duplicates\u001b[0m\u001b[0;34m\u001b[0m\u001b[0;34m\u001b[0m\u001b[0;34m\u001b[0m\u001b[0m\n",
      "\u001b[0;31mKeyError\u001b[0m: 'loc_prec'"
     ]
    }
   ],
   "source": [
    "# Join your final version and the MGGGG final version\n",
    "#validate = pd.merge(precincts, final, on=['loc_prec'], how='left')"
   ]
  },
  {
   "cell_type": "markdown",
   "metadata": {},
   "source": [
    " "
   ]
  },
  {
   "cell_type": "markdown",
   "metadata": {},
   "source": [
    "**Check population**"
   ]
  },
  {
   "cell_type": "code",
   "execution_count": 109,
   "metadata": {
    "scrolled": true
   },
   "outputs": [],
   "source": [
    "validate['pop_diff'] = validate.TOTPOP_x - validate.TOTPOP_y"
   ]
  },
  {
   "cell_type": "markdown",
   "metadata": {},
   "source": [
    "**99% of precincts have a popultion deviation of 10 or less people**"
   ]
  },
  {
   "cell_type": "code",
   "execution_count": 110,
   "metadata": {},
   "outputs": [
    {
     "data": {
      "text/plain": [
       "0.993439934399344"
      ]
     },
     "execution_count": 110,
     "metadata": {},
     "output_type": "execute_result"
    }
   ],
   "source": [
    "validate[validate.pop_diff.abs()<10].shape[0] / validate.shape[0]"
   ]
  },
  {
   "cell_type": "markdown",
   "metadata": {},
   "source": [
    "**99% of precincts have a black popultion deviation of 10 or less people**"
   ]
  },
  {
   "cell_type": "code",
   "execution_count": 111,
   "metadata": {},
   "outputs": [],
   "source": [
    "validate['bpop_diff'] = validate.NH_BLACK_x - validate.NH_BLACK_y"
   ]
  },
  {
   "cell_type": "code",
   "execution_count": 112,
   "metadata": {},
   "outputs": [
    {
     "data": {
      "text/plain": [
       "0.996719967199672"
      ]
     },
     "execution_count": 112,
     "metadata": {},
     "output_type": "execute_result"
    }
   ],
   "source": [
    "validate[validate.bpop_diff.abs()<10].shape[0] / validate.shape[0]"
   ]
  },
  {
   "cell_type": "markdown",
   "metadata": {},
   "source": [
    " "
   ]
  },
  {
   "cell_type": "markdown",
   "metadata": {},
   "source": [
    "**Check voting age population**"
   ]
  },
  {
   "cell_type": "code",
   "execution_count": 113,
   "metadata": {},
   "outputs": [],
   "source": [
    "validate['bvap_diff'] = validate.BVAP_x - validate.BVAP_y"
   ]
  },
  {
   "cell_type": "markdown",
   "metadata": {},
   "source": [
    "**99% of precincts have a black voting age popultion deviation of 10 or less people**"
   ]
  },
  {
   "cell_type": "code",
   "execution_count": 114,
   "metadata": {},
   "outputs": [
    {
     "data": {
      "text/plain": [
       "0.996719967199672"
      ]
     },
     "execution_count": 114,
     "metadata": {},
     "output_type": "execute_result"
    }
   ],
   "source": [
    "validate[validate.bvap_diff.abs()<10].shape[0] / validate.shape[0]"
   ]
  },
  {
   "cell_type": "markdown",
   "metadata": {},
   "source": [
    " "
   ]
  },
  {
   "cell_type": "markdown",
   "metadata": {},
   "source": [
    "**Check state house districts**"
   ]
  },
  {
   "cell_type": "code",
   "execution_count": 115,
   "metadata": {},
   "outputs": [],
   "source": [
    "#validate.HD_DIST11 = validate.HD_DIST11.astype(int)\n",
    "validate.HDIST_11 = validate.HDIST_11.astype(int)\n",
    "validate.HDIST_REM = validate.HDIST_REM.astype(int)"
   ]
  },
  {
   "cell_type": "markdown",
   "metadata": {},
   "source": [
    "**All state House districts match MGGG's assigned state House districts**"
   ]
  },
  {
   "cell_type": "markdown",
   "metadata": {},
   "source": [
    "**_2011_**"
   ]
  },
  {
   "cell_type": "code",
   "execution_count": 116,
   "metadata": {},
   "outputs": [
    {
     "data": {
      "text/plain": [
       "0"
      ]
     },
     "execution_count": 116,
     "metadata": {},
     "output_type": "execute_result"
    }
   ],
   "source": [
    "#number of districts that don't match MGGG's\n",
    "validate[['HD_DIST11', 'HDIST_11']].assign(NE=validate.HDIST_11 != validate.HD_DIST11)['NE'].sum()"
   ]
  },
  {
   "cell_type": "code",
   "execution_count": 117,
   "metadata": {},
   "outputs": [
    {
     "data": {
      "text/html": [
       "<div>\n",
       "<style scoped>\n",
       "    .dataframe tbody tr th:only-of-type {\n",
       "        vertical-align: middle;\n",
       "    }\n",
       "\n",
       "    .dataframe tbody tr th {\n",
       "        vertical-align: top;\n",
       "    }\n",
       "\n",
       "    .dataframe thead th {\n",
       "        text-align: right;\n",
       "    }\n",
       "</style>\n",
       "<table border=\"1\" class=\"dataframe\">\n",
       "  <thead>\n",
       "    <tr style=\"text-align: right;\">\n",
       "      <th></th>\n",
       "      <th>HD_DIST11</th>\n",
       "      <th>HDIST_11</th>\n",
       "    </tr>\n",
       "  </thead>\n",
       "  <tbody>\n",
       "    <tr>\n",
       "      <th>0</th>\n",
       "      <td>79</td>\n",
       "      <td>79</td>\n",
       "    </tr>\n",
       "    <tr>\n",
       "      <th>1</th>\n",
       "      <td>79</td>\n",
       "      <td>79</td>\n",
       "    </tr>\n",
       "    <tr>\n",
       "      <th>2</th>\n",
       "      <td>100</td>\n",
       "      <td>100</td>\n",
       "    </tr>\n",
       "    <tr>\n",
       "      <th>3</th>\n",
       "      <td>100</td>\n",
       "      <td>100</td>\n",
       "    </tr>\n",
       "    <tr>\n",
       "      <th>4</th>\n",
       "      <td>89</td>\n",
       "      <td>89</td>\n",
       "    </tr>\n",
       "  </tbody>\n",
       "</table>\n",
       "</div>"
      ],
      "text/plain": [
       "   HD_DIST11  HDIST_11\n",
       "0         79        79\n",
       "1         79        79\n",
       "2        100       100\n",
       "3        100       100\n",
       "4         89        89"
      ]
     },
     "execution_count": 117,
     "metadata": {},
     "output_type": "execute_result"
    }
   ],
   "source": [
    "validate[['HD_DIST11', 'HDIST_11']].head()"
   ]
  },
  {
   "cell_type": "markdown",
   "metadata": {},
   "source": [
    "**_2019_**"
   ]
  },
  {
   "cell_type": "code",
   "execution_count": 118,
   "metadata": {},
   "outputs": [
    {
     "data": {
      "text/plain": [
       "0"
      ]
     },
     "execution_count": 118,
     "metadata": {},
     "output_type": "execute_result"
    }
   ],
   "source": [
    "#number of districts that don't match MGGG's\n",
    "validate[['HDIST_REM', 'HD_DIST19']].assign(NE=validate.HD_DIST19 != validate.HDIST_REM)['NE'].sum()"
   ]
  },
  {
   "cell_type": "code",
   "execution_count": 119,
   "metadata": {
    "scrolled": true
   },
   "outputs": [
    {
     "data": {
      "text/html": [
       "<div>\n",
       "<style scoped>\n",
       "    .dataframe tbody tr th:only-of-type {\n",
       "        vertical-align: middle;\n",
       "    }\n",
       "\n",
       "    .dataframe tbody tr th {\n",
       "        vertical-align: top;\n",
       "    }\n",
       "\n",
       "    .dataframe thead th {\n",
       "        text-align: right;\n",
       "    }\n",
       "</style>\n",
       "<table border=\"1\" class=\"dataframe\">\n",
       "  <thead>\n",
       "    <tr style=\"text-align: right;\">\n",
       "      <th></th>\n",
       "      <th>HDIST_REM</th>\n",
       "      <th>HD_DIST19</th>\n",
       "    </tr>\n",
       "  </thead>\n",
       "  <tbody>\n",
       "    <tr>\n",
       "      <th>0</th>\n",
       "      <td>79</td>\n",
       "      <td>79</td>\n",
       "    </tr>\n",
       "    <tr>\n",
       "      <th>1</th>\n",
       "      <td>79</td>\n",
       "      <td>79</td>\n",
       "    </tr>\n",
       "    <tr>\n",
       "      <th>2</th>\n",
       "      <td>100</td>\n",
       "      <td>100</td>\n",
       "    </tr>\n",
       "    <tr>\n",
       "      <th>3</th>\n",
       "      <td>100</td>\n",
       "      <td>100</td>\n",
       "    </tr>\n",
       "    <tr>\n",
       "      <th>4</th>\n",
       "      <td>89</td>\n",
       "      <td>89</td>\n",
       "    </tr>\n",
       "  </tbody>\n",
       "</table>\n",
       "</div>"
      ],
      "text/plain": [
       "   HDIST_REM  HD_DIST19\n",
       "0         79         79\n",
       "1         79         79\n",
       "2        100        100\n",
       "3        100        100\n",
       "4         89         89"
      ]
     },
     "execution_count": 119,
     "metadata": {},
     "output_type": "execute_result"
    }
   ],
   "source": [
    "validate[['HDIST_REM', 'HD_DIST19']].head()"
   ]
  },
  {
   "cell_type": "code",
   "execution_count": 120,
   "metadata": {},
   "outputs": [],
   "source": [
    "## Check 2016 Congressional district matching\n",
    "\n",
    "validate.CD_16 = validate.CD_16.astype(int)\n",
    "validate.CD_DIST = validate.CD_DIST.astype(int)"
   ]
  },
  {
   "cell_type": "code",
   "execution_count": 121,
   "metadata": {},
   "outputs": [
    {
     "data": {
      "text/plain": [
       "0"
      ]
     },
     "execution_count": 121,
     "metadata": {},
     "output_type": "execute_result"
    }
   ],
   "source": [
    "#number of districts that don't match MGGG's\n",
    "validate[['CD_16', 'CD_DIST']].assign(NE=validate.CD_16 != validate.CD_DIST)['NE'].sum()"
   ]
  },
  {
   "cell_type": "markdown",
   "metadata": {},
   "source": [
    " "
   ]
  },
  {
   "cell_type": "code",
   "execution_count": 122,
   "metadata": {},
   "outputs": [
    {
     "data": {
      "text/html": [
       "<div>\n",
       "<style scoped>\n",
       "    .dataframe tbody tr th:only-of-type {\n",
       "        vertical-align: middle;\n",
       "    }\n",
       "\n",
       "    .dataframe tbody tr th {\n",
       "        vertical-align: top;\n",
       "    }\n",
       "\n",
       "    .dataframe thead th {\n",
       "        text-align: right;\n",
       "    }\n",
       "</style>\n",
       "<table border=\"1\" class=\"dataframe\">\n",
       "  <thead>\n",
       "    <tr style=\"text-align: right;\">\n",
       "      <th></th>\n",
       "      <th>CD_16</th>\n",
       "      <th>CD_DIST</th>\n",
       "    </tr>\n",
       "  </thead>\n",
       "  <tbody>\n",
       "    <tr>\n",
       "      <th>0</th>\n",
       "      <td>2</td>\n",
       "      <td>2</td>\n",
       "    </tr>\n",
       "    <tr>\n",
       "      <th>1</th>\n",
       "      <td>2</td>\n",
       "      <td>2</td>\n",
       "    </tr>\n",
       "    <tr>\n",
       "      <th>2</th>\n",
       "      <td>2</td>\n",
       "      <td>2</td>\n",
       "    </tr>\n",
       "    <tr>\n",
       "      <th>3</th>\n",
       "      <td>2</td>\n",
       "      <td>2</td>\n",
       "    </tr>\n",
       "    <tr>\n",
       "      <th>4</th>\n",
       "      <td>3</td>\n",
       "      <td>3</td>\n",
       "    </tr>\n",
       "  </tbody>\n",
       "</table>\n",
       "</div>"
      ],
      "text/plain": [
       "   CD_16  CD_DIST\n",
       "0      2        2\n",
       "1      2        2\n",
       "2      2        2\n",
       "3      2        2\n",
       "4      3        3"
      ]
     },
     "execution_count": 122,
     "metadata": {},
     "output_type": "execute_result"
    }
   ],
   "source": [
    "validate[['CD_16', 'CD_DIST']].head()"
   ]
  },
  {
   "cell_type": "code",
   "execution_count": 123,
   "metadata": {},
   "outputs": [],
   "source": [
    "######NEEDS TO BE FIXED\n",
    "\n",
    "\n",
    "\n",
    "## Check State Senate district matching\n",
    "\n",
    "validate.SENDIST = validate.SENDIST.astype(int)\n",
    "validate.STATE_SENATE = validate.STATE_SENATE.astype(int)"
   ]
  },
  {
   "cell_type": "code",
   "execution_count": 124,
   "metadata": {},
   "outputs": [
    {
     "data": {
      "text/plain": [
       "830"
      ]
     },
     "execution_count": 124,
     "metadata": {},
     "output_type": "execute_result"
    }
   ],
   "source": [
    "#number of districts that don't match MGGG's\n",
    "validate[['SENDIST', 'STATE_SENATE']].assign(NE=validate.SENDIST != validate.STATE_SENATE)['NE'].sum()\n"
   ]
  },
  {
   "cell_type": "code",
   "execution_count": 125,
   "metadata": {},
   "outputs": [
    {
     "data": {
      "text/html": [
       "<div>\n",
       "<style scoped>\n",
       "    .dataframe tbody tr th:only-of-type {\n",
       "        vertical-align: middle;\n",
       "    }\n",
       "\n",
       "    .dataframe tbody tr th {\n",
       "        vertical-align: top;\n",
       "    }\n",
       "\n",
       "    .dataframe thead th {\n",
       "        text-align: right;\n",
       "    }\n",
       "</style>\n",
       "<table border=\"1\" class=\"dataframe\">\n",
       "  <thead>\n",
       "    <tr style=\"text-align: right;\">\n",
       "      <th></th>\n",
       "      <th>SENDIST</th>\n",
       "      <th>STATE_SENATE</th>\n",
       "    </tr>\n",
       "  </thead>\n",
       "  <tbody>\n",
       "    <tr>\n",
       "      <th>0</th>\n",
       "      <td>6</td>\n",
       "      <td>6</td>\n",
       "    </tr>\n",
       "    <tr>\n",
       "      <th>1</th>\n",
       "      <td>6</td>\n",
       "      <td>6</td>\n",
       "    </tr>\n",
       "    <tr>\n",
       "      <th>2</th>\n",
       "      <td>6</td>\n",
       "      <td>6</td>\n",
       "    </tr>\n",
       "    <tr>\n",
       "      <th>3</th>\n",
       "      <td>6</td>\n",
       "      <td>6</td>\n",
       "    </tr>\n",
       "    <tr>\n",
       "      <th>4</th>\n",
       "      <td>5</td>\n",
       "      <td>5</td>\n",
       "    </tr>\n",
       "  </tbody>\n",
       "</table>\n",
       "</div>"
      ],
      "text/plain": [
       "   SENDIST  STATE_SENATE\n",
       "0        6             6\n",
       "1        6             6\n",
       "2        6             6\n",
       "3        6             6\n",
       "4        5             5"
      ]
     },
     "execution_count": 125,
     "metadata": {},
     "output_type": "execute_result"
    }
   ],
   "source": [
    "validate[['SENDIST', 'STATE_SENATE']].head()"
   ]
  },
  {
   "cell_type": "code",
   "execution_count": 126,
   "metadata": {},
   "outputs": [
    {
     "data": {
      "text/plain": [
       "295"
      ]
     },
     "execution_count": 126,
     "metadata": {},
     "output_type": "execute_result"
    }
   ],
   "source": [
    "##Validate CD 2012 \n",
    "validate.CD_12 = validate.CD_12.astype(int)\n",
    "validate.CD_2012 = validate.CD_2012.astype(int)\n",
    "\n",
    "#number of districts that don't match MGGG's\n",
    "validate[['CD_12', 'CD_2012']].assign(NE=validate.CD_12 != validate.CD_2012)['NE'].sum()\n"
   ]
  },
  {
   "cell_type": "code",
   "execution_count": 127,
   "metadata": {},
   "outputs": [
    {
     "data": {
      "text/html": [
       "<div>\n",
       "<style scoped>\n",
       "    .dataframe tbody tr th:only-of-type {\n",
       "        vertical-align: middle;\n",
       "    }\n",
       "\n",
       "    .dataframe tbody tr th {\n",
       "        vertical-align: top;\n",
       "    }\n",
       "\n",
       "    .dataframe thead th {\n",
       "        text-align: right;\n",
       "    }\n",
       "</style>\n",
       "<table border=\"1\" class=\"dataframe\">\n",
       "  <thead>\n",
       "    <tr style=\"text-align: right;\">\n",
       "      <th></th>\n",
       "      <th>CD_12</th>\n",
       "      <th>CD_2012</th>\n",
       "    </tr>\n",
       "  </thead>\n",
       "  <tbody>\n",
       "    <tr>\n",
       "      <th>0</th>\n",
       "      <td>3</td>\n",
       "      <td>2</td>\n",
       "    </tr>\n",
       "    <tr>\n",
       "      <th>1</th>\n",
       "      <td>2</td>\n",
       "      <td>2</td>\n",
       "    </tr>\n",
       "    <tr>\n",
       "      <th>2</th>\n",
       "      <td>2</td>\n",
       "      <td>2</td>\n",
       "    </tr>\n",
       "    <tr>\n",
       "      <th>3</th>\n",
       "      <td>2</td>\n",
       "      <td>2</td>\n",
       "    </tr>\n",
       "    <tr>\n",
       "      <th>4</th>\n",
       "      <td>3</td>\n",
       "      <td>3</td>\n",
       "    </tr>\n",
       "  </tbody>\n",
       "</table>\n",
       "</div>"
      ],
      "text/plain": [
       "   CD_12  CD_2012\n",
       "0      3        2\n",
       "1      2        2\n",
       "2      2        2\n",
       "3      2        2\n",
       "4      3        3"
      ]
     },
     "execution_count": 127,
     "metadata": {},
     "output_type": "execute_result"
    }
   ],
   "source": [
    "validate[['CD_12', 'CD_2012']].head()"
   ]
  },
  {
   "cell_type": "markdown",
   "metadata": {},
   "source": [
    "**Check votes of 2018 Democratic US House candidate by congressional district**"
   ]
  },
  {
   "cell_type": "code",
   "execution_count": 128,
   "metadata": {},
   "outputs": [
    {
     "data": {
      "text/plain": [
       "CD_DIST\n",
       "1.0     149331\n",
       "2.0     139352\n",
       "3.0     197954\n",
       "4.0     188566\n",
       "5.0     144769\n",
       "6.0     113044\n",
       "7.0     175172\n",
       "8.0     248981\n",
       "9.0      85903\n",
       "10.0    200994\n",
       "11.0    221464\n",
       "Name: G18DHOR, dtype: int64"
      ]
     },
     "execution_count": 128,
     "metadata": {},
     "output_type": "execute_result"
    }
   ],
   "source": [
    "precincts.groupby('CD_DIST')['G18DHOR'].sum()"
   ]
  },
  {
   "cell_type": "markdown",
   "metadata": {},
   "source": [
    " "
   ]
  },
  {
   "cell_type": "markdown",
   "metadata": {},
   "source": [
    "**Check votes of 2018 Democratic US House candidate by congressional district**"
   ]
  },
  {
   "cell_type": "code",
   "execution_count": null,
   "metadata": {},
   "outputs": [],
   "source": [
    "precincts.groupby('HD_DIST11')['G17DHOD'].sum().head(10)"
   ]
  },
  {
   "cell_type": "code",
   "execution_count": null,
   "metadata": {},
   "outputs": [],
   "source": [
    "#Stop timer\n",
    "stop = timeit.default_timer() \n",
    "#wall time not CPU\n",
    "print('Run time in minutes: ', (stop - start)/60)"
   ]
  },
  {
   "cell_type": "code",
   "execution_count": null,
   "metadata": {},
   "outputs": [],
   "source": []
  },
  {
   "cell_type": "code",
   "execution_count": null,
   "metadata": {},
   "outputs": [],
   "source": []
  },
  {
   "cell_type": "code",
   "execution_count": null,
   "metadata": {},
   "outputs": [],
   "source": []
  }
 ],
 "metadata": {
  "kernelspec": {
   "display_name": "Python 3",
   "language": "python",
   "name": "python3"
  },
  "language_info": {
   "codemirror_mode": {
    "name": "ipython",
    "version": 3
   },
   "file_extension": ".py",
   "mimetype": "text/x-python",
   "name": "python",
   "nbconvert_exporter": "python",
   "pygments_lexer": "ipython3",
   "version": "3.8.5"
  }
 },
 "nbformat": 4,
 "nbformat_minor": 4
}
